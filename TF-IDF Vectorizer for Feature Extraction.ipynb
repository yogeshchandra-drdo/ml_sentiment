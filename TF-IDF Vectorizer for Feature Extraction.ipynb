{
 "cells": [
  {
   "cell_type": "code",
   "execution_count": 1,
   "metadata": {},
   "outputs": [],
   "source": [
    "import pandas as pd\n",
    "\n",
    "# read file into pandas using a relative path\n",
    "path = \"D:\\ML Internship\\sms.tsv\"\n",
    "sms = pd.read_table(path, header=None, names=['label', 'message'])"
   ]
  },
  {
   "cell_type": "code",
   "execution_count": 2,
   "metadata": {},
   "outputs": [
    {
     "data": {
      "text/plain": [
       "(5572, 2)"
      ]
     },
     "execution_count": 2,
     "metadata": {},
     "output_type": "execute_result"
    }
   ],
   "source": [
    "sms.shape"
   ]
  },
  {
   "cell_type": "code",
   "execution_count": 3,
   "metadata": {},
   "outputs": [
    {
     "data": {
      "text/html": [
       "<div>\n",
       "<style scoped>\n",
       "    .dataframe tbody tr th:only-of-type {\n",
       "        vertical-align: middle;\n",
       "    }\n",
       "\n",
       "    .dataframe tbody tr th {\n",
       "        vertical-align: top;\n",
       "    }\n",
       "\n",
       "    .dataframe thead th {\n",
       "        text-align: right;\n",
       "    }\n",
       "</style>\n",
       "<table border=\"1\" class=\"dataframe\">\n",
       "  <thead>\n",
       "    <tr style=\"text-align: right;\">\n",
       "      <th></th>\n",
       "      <th>label</th>\n",
       "      <th>message</th>\n",
       "    </tr>\n",
       "  </thead>\n",
       "  <tbody>\n",
       "    <tr>\n",
       "      <th>0</th>\n",
       "      <td>ham</td>\n",
       "      <td>Go until jurong point, crazy.. Available only ...</td>\n",
       "    </tr>\n",
       "    <tr>\n",
       "      <th>1</th>\n",
       "      <td>ham</td>\n",
       "      <td>Ok lar... Joking wif u oni...</td>\n",
       "    </tr>\n",
       "    <tr>\n",
       "      <th>2</th>\n",
       "      <td>spam</td>\n",
       "      <td>Free entry in 2 a wkly comp to win FA Cup fina...</td>\n",
       "    </tr>\n",
       "    <tr>\n",
       "      <th>3</th>\n",
       "      <td>ham</td>\n",
       "      <td>U dun say so early hor... U c already then say...</td>\n",
       "    </tr>\n",
       "    <tr>\n",
       "      <th>4</th>\n",
       "      <td>ham</td>\n",
       "      <td>Nah I don't think he goes to usf, he lives aro...</td>\n",
       "    </tr>\n",
       "    <tr>\n",
       "      <th>5</th>\n",
       "      <td>spam</td>\n",
       "      <td>FreeMsg Hey there darling it's been 3 week's n...</td>\n",
       "    </tr>\n",
       "    <tr>\n",
       "      <th>6</th>\n",
       "      <td>ham</td>\n",
       "      <td>Even my brother is not like to speak with me. ...</td>\n",
       "    </tr>\n",
       "    <tr>\n",
       "      <th>7</th>\n",
       "      <td>ham</td>\n",
       "      <td>As per your request 'Melle Melle (Oru Minnamin...</td>\n",
       "    </tr>\n",
       "    <tr>\n",
       "      <th>8</th>\n",
       "      <td>spam</td>\n",
       "      <td>WINNER!! As a valued network customer you have...</td>\n",
       "    </tr>\n",
       "    <tr>\n",
       "      <th>9</th>\n",
       "      <td>spam</td>\n",
       "      <td>Had your mobile 11 months or more? U R entitle...</td>\n",
       "    </tr>\n",
       "  </tbody>\n",
       "</table>\n",
       "</div>"
      ],
      "text/plain": [
       "  label                                            message\n",
       "0   ham  Go until jurong point, crazy.. Available only ...\n",
       "1   ham                      Ok lar... Joking wif u oni...\n",
       "2  spam  Free entry in 2 a wkly comp to win FA Cup fina...\n",
       "3   ham  U dun say so early hor... U c already then say...\n",
       "4   ham  Nah I don't think he goes to usf, he lives aro...\n",
       "5  spam  FreeMsg Hey there darling it's been 3 week's n...\n",
       "6   ham  Even my brother is not like to speak with me. ...\n",
       "7   ham  As per your request 'Melle Melle (Oru Minnamin...\n",
       "8  spam  WINNER!! As a valued network customer you have...\n",
       "9  spam  Had your mobile 11 months or more? U R entitle..."
      ]
     },
     "execution_count": 3,
     "metadata": {},
     "output_type": "execute_result"
    }
   ],
   "source": [
    "sms.head(10)"
   ]
  },
  {
   "cell_type": "code",
   "execution_count": 4,
   "metadata": {},
   "outputs": [
    {
     "data": {
      "text/plain": [
       "ham     4825\n",
       "spam     747\n",
       "Name: label, dtype: int64"
      ]
     },
     "execution_count": 4,
     "metadata": {},
     "output_type": "execute_result"
    }
   ],
   "source": [
    "# examine the class distribution\n",
    "sms.label.value_counts()"
   ]
  },
  {
   "cell_type": "code",
   "execution_count": 5,
   "metadata": {},
   "outputs": [],
   "source": [
    "# convert label to a numerical variable because some classification algorithms want their classes to be of numeric values as well.\n",
    "sms['label'] = sms.label.map({'ham':0, 'spam':1})"
   ]
  },
  {
   "cell_type": "code",
   "execution_count": 6,
   "metadata": {},
   "outputs": [
    {
     "data": {
      "text/html": [
       "<div>\n",
       "<style scoped>\n",
       "    .dataframe tbody tr th:only-of-type {\n",
       "        vertical-align: middle;\n",
       "    }\n",
       "\n",
       "    .dataframe tbody tr th {\n",
       "        vertical-align: top;\n",
       "    }\n",
       "\n",
       "    .dataframe thead th {\n",
       "        text-align: right;\n",
       "    }\n",
       "</style>\n",
       "<table border=\"1\" class=\"dataframe\">\n",
       "  <thead>\n",
       "    <tr style=\"text-align: right;\">\n",
       "      <th></th>\n",
       "      <th>label</th>\n",
       "      <th>message</th>\n",
       "    </tr>\n",
       "  </thead>\n",
       "  <tbody>\n",
       "    <tr>\n",
       "      <th>0</th>\n",
       "      <td>0</td>\n",
       "      <td>Go until jurong point, crazy.. Available only ...</td>\n",
       "    </tr>\n",
       "    <tr>\n",
       "      <th>1</th>\n",
       "      <td>0</td>\n",
       "      <td>Ok lar... Joking wif u oni...</td>\n",
       "    </tr>\n",
       "    <tr>\n",
       "      <th>2</th>\n",
       "      <td>1</td>\n",
       "      <td>Free entry in 2 a wkly comp to win FA Cup fina...</td>\n",
       "    </tr>\n",
       "    <tr>\n",
       "      <th>3</th>\n",
       "      <td>0</td>\n",
       "      <td>U dun say so early hor... U c already then say...</td>\n",
       "    </tr>\n",
       "    <tr>\n",
       "      <th>4</th>\n",
       "      <td>0</td>\n",
       "      <td>Nah I don't think he goes to usf, he lives aro...</td>\n",
       "    </tr>\n",
       "    <tr>\n",
       "      <th>5</th>\n",
       "      <td>1</td>\n",
       "      <td>FreeMsg Hey there darling it's been 3 week's n...</td>\n",
       "    </tr>\n",
       "    <tr>\n",
       "      <th>6</th>\n",
       "      <td>0</td>\n",
       "      <td>Even my brother is not like to speak with me. ...</td>\n",
       "    </tr>\n",
       "    <tr>\n",
       "      <th>7</th>\n",
       "      <td>0</td>\n",
       "      <td>As per your request 'Melle Melle (Oru Minnamin...</td>\n",
       "    </tr>\n",
       "    <tr>\n",
       "      <th>8</th>\n",
       "      <td>1</td>\n",
       "      <td>WINNER!! As a valued network customer you have...</td>\n",
       "    </tr>\n",
       "    <tr>\n",
       "      <th>9</th>\n",
       "      <td>1</td>\n",
       "      <td>Had your mobile 11 months or more? U R entitle...</td>\n",
       "    </tr>\n",
       "  </tbody>\n",
       "</table>\n",
       "</div>"
      ],
      "text/plain": [
       "   label                                            message\n",
       "0      0  Go until jurong point, crazy.. Available only ...\n",
       "1      0                      Ok lar... Joking wif u oni...\n",
       "2      1  Free entry in 2 a wkly comp to win FA Cup fina...\n",
       "3      0  U dun say so early hor... U c already then say...\n",
       "4      0  Nah I don't think he goes to usf, he lives aro...\n",
       "5      1  FreeMsg Hey there darling it's been 3 week's n...\n",
       "6      0  Even my brother is not like to speak with me. ...\n",
       "7      0  As per your request 'Melle Melle (Oru Minnamin...\n",
       "8      1  WINNER!! As a valued network customer you have...\n",
       "9      1  Had your mobile 11 months or more? U R entitle..."
      ]
     },
     "execution_count": 6,
     "metadata": {},
     "output_type": "execute_result"
    }
   ],
   "source": [
    "# check that the conversion worked\n",
    "sms.head(10)"
   ]
  },
  {
   "cell_type": "code",
   "execution_count": 7,
   "metadata": {},
   "outputs": [],
   "source": [
    "#Some preprocessing needs to be done before we start extracting features.\n",
    "\n",
    "# Making everything lower case \n",
    "sms['message'] = sms['message'].apply(lambda x: \" \".join(x.lower() for x in x.split()))"
   ]
  },
  {
   "cell_type": "code",
   "execution_count": 8,
   "metadata": {},
   "outputs": [
    {
     "data": {
      "text/html": [
       "<div>\n",
       "<style scoped>\n",
       "    .dataframe tbody tr th:only-of-type {\n",
       "        vertical-align: middle;\n",
       "    }\n",
       "\n",
       "    .dataframe tbody tr th {\n",
       "        vertical-align: top;\n",
       "    }\n",
       "\n",
       "    .dataframe thead th {\n",
       "        text-align: right;\n",
       "    }\n",
       "</style>\n",
       "<table border=\"1\" class=\"dataframe\">\n",
       "  <thead>\n",
       "    <tr style=\"text-align: right;\">\n",
       "      <th></th>\n",
       "      <th>label</th>\n",
       "      <th>message</th>\n",
       "    </tr>\n",
       "  </thead>\n",
       "  <tbody>\n",
       "    <tr>\n",
       "      <th>0</th>\n",
       "      <td>0</td>\n",
       "      <td>go until jurong point, crazy.. available only ...</td>\n",
       "    </tr>\n",
       "    <tr>\n",
       "      <th>1</th>\n",
       "      <td>0</td>\n",
       "      <td>ok lar... joking wif u oni...</td>\n",
       "    </tr>\n",
       "    <tr>\n",
       "      <th>2</th>\n",
       "      <td>1</td>\n",
       "      <td>free entry in 2 a wkly comp to win fa cup fina...</td>\n",
       "    </tr>\n",
       "    <tr>\n",
       "      <th>3</th>\n",
       "      <td>0</td>\n",
       "      <td>u dun say so early hor... u c already then say...</td>\n",
       "    </tr>\n",
       "    <tr>\n",
       "      <th>4</th>\n",
       "      <td>0</td>\n",
       "      <td>nah i don't think he goes to usf, he lives aro...</td>\n",
       "    </tr>\n",
       "  </tbody>\n",
       "</table>\n",
       "</div>"
      ],
      "text/plain": [
       "   label                                            message\n",
       "0      0  go until jurong point, crazy.. available only ...\n",
       "1      0                      ok lar... joking wif u oni...\n",
       "2      1  free entry in 2 a wkly comp to win fa cup fina...\n",
       "3      0  u dun say so early hor... u c already then say...\n",
       "4      0  nah i don't think he goes to usf, he lives aro..."
      ]
     },
     "execution_count": 8,
     "metadata": {},
     "output_type": "execute_result"
    }
   ],
   "source": [
    "sms.head()"
   ]
  },
  {
   "cell_type": "code",
   "execution_count": 9,
   "metadata": {},
   "outputs": [
    {
     "data": {
      "text/plain": [
       "0    go until jurong point crazy available only in ...\n",
       "1                              ok lar joking wif u oni\n",
       "2    free entry in 2 a wkly comp to win fa cup fina...\n",
       "3          u dun say so early hor u c already then say\n",
       "4    nah i dont think he goes to usf he lives aroun...\n",
       "Name: message, dtype: object"
      ]
     },
     "execution_count": 9,
     "metadata": {},
     "output_type": "execute_result"
    }
   ],
   "source": [
    "# Removing Punctuation\n",
    "\n",
    "sms['message'] = sms['message'].str.replace('[^\\w\\s]','')\n",
    "sms['message'].head()"
   ]
  },
  {
   "cell_type": "code",
   "execution_count": 10,
   "metadata": {},
   "outputs": [],
   "source": [
    "import nltk"
   ]
  },
  {
   "cell_type": "code",
   "execution_count": 11,
   "metadata": {},
   "outputs": [],
   "source": [
    "from nltk.corpus import stopwords"
   ]
  },
  {
   "cell_type": "code",
   "execution_count": 12,
   "metadata": {},
   "outputs": [
    {
     "data": {
      "text/plain": [
       "0    go jurong point crazy available bugis n great ...\n",
       "1                              ok lar joking wif u oni\n",
       "2    free entry 2 wkly comp win fa cup final tkts 2...\n",
       "3                  u dun say early hor u c already say\n",
       "4          nah dont think goes usf lives around though\n",
       "Name: message, dtype: object"
      ]
     },
     "execution_count": 12,
     "metadata": {},
     "output_type": "execute_result"
    }
   ],
   "source": [
    "#Removing stopwords\n",
    "\n",
    "stop = stopwords.words('english')\n",
    "sms['message'] = sms['message'].apply(lambda x: \" \".join(x for x in x.split() if x not in stop))\n",
    "sms['message'].head()"
   ]
  },
  {
   "cell_type": "code",
   "execution_count": 13,
   "metadata": {},
   "outputs": [
    {
     "data": {
      "text/plain": [
       "0       go during point crazy available boris n great ...\n",
       "1                                   ok war joking if u on\n",
       "2       free entry 2 wily come win a cup final this mu...\n",
       "3                     u dun say early for u c already say\n",
       "4               ah dont think goes us lives around though\n",
       "5       freemen hey darling 3 weeks word back id like ...\n",
       "6          even brother like speak treat like aids patent\n",
       "7       per request selle selle or minnaminunginte nur...\n",
       "8       winner valued network customer selected receiv...\n",
       "9       mobile 11 months u r entitled update latest co...\n",
       "10      in donna home soon dont want talk stuff anymor...\n",
       "11      six chances win cash 100 20000 pounds txt csh1...\n",
       "12      urgent 1 week free membership 100000 prize jac...\n",
       "13      give searching right words thank breathe promi...\n",
       "14                                            date sunday\n",
       "15      xxxmobilemovieclub use credit click was link n...\n",
       "16                                        oh him watching\n",
       "17      eh u remember 2 spell name yes v naughty make ...\n",
       "18                    fine that way u feel that way got b\n",
       "19      england v macedonia dont miss goalsteam news t...\n",
       "20                                   seriously spell name\n",
       "21                     in going try 2 months ha ha joking\n",
       "22                        ü pay first war da stock coming\n",
       "23      aft finish lunch go sir for and 3 smith for u ...\n",
       "24                     ffffffffff alright way meet sooner\n",
       "25      forced eat slice in really hungry the sucks ma...\n",
       "26                                   ll always convincing\n",
       "27      catch bus trying egg make tea eating moss left...\n",
       "28        in back amp packing car ill let know there room\n",
       "29                  ah work vaguely remember feel like ll\n",
       "                              ...                        \n",
       "5542                          around says get ass epsilon\n",
       "5543                  u still haven got herself jacket ah\n",
       "5544    in taking dere amp taylor palmar in back time ...\n",
       "5545                                hi urban still number\n",
       "5546                               in lost childporn cars\n",
       "5547    contract mobile 11 months latest motorola niki...\n",
       "5548                                     trying weekend v\n",
       "5549    know not people wear shirts jumper hat belt kn...\n",
       "5550                                  cool time think get\n",
       "5551                    wen get spiritual deep that great\n",
       "5552    safe trip siberia wish happiness soon company ...\n",
       "5553                                 hahahause brain dear\n",
       "5554    well keep mind give got enough gas one round t...\n",
       "5555    yes indians nice the lane bit shed go 4 drink ...\n",
       "5556                  yes that u tested pshewmissing much\n",
       "5557    meant calculation left units left school reall...\n",
       "5558                                 sorry ill call later\n",
       "5559                  agent next left hours emma lip shit\n",
       "5560                              anything for jug us for\n",
       "5561          get dump heap mon decided come lower boring\n",
       "5562    ok for sonya ericsson salesman ask shuhui say ...\n",
       "5563                                   and 6 like dat for\n",
       "5564                dont wait til least wednesday see get\n",
       "5565                                              hut let\n",
       "5566    reminder of get 250 pounds free call credit de...\n",
       "5567    and time tried 2 contact u u 750 pound prize 2...\n",
       "5568                          ü b going esplanade fr home\n",
       "5569                            pity mood any suggestions\n",
       "5570    guy itching acted like id interested buying so...\n",
       "5571                                       roll true name\n",
       "Name: message, Length: 5572, dtype: object"
      ]
     },
     "execution_count": 13,
     "metadata": {},
     "output_type": "execute_result"
    }
   ],
   "source": [
    "# For correcting spelling mistakes\n",
    "\n",
    "from textblob import TextBlob\n",
    "sms['message'].apply(lambda x: str(TextBlob(x).correct()))"
   ]
  },
  {
   "cell_type": "code",
   "execution_count": 13,
   "metadata": {},
   "outputs": [
    {
     "data": {
      "text/plain": [
       "0       go jurong point crazi avail bugi n great world...\n",
       "1                                   ok lar joke wif u oni\n",
       "2       free entri 2 wkli comp win fa cup final tkt 21...\n",
       "3                     u dun say earli hor u c alreadi say\n",
       "4               nah dont think goe usf live around though\n",
       "5       freemsg hey darl 3 week word back id like fun ...\n",
       "6           even brother like speak treat like aid patent\n",
       "7       per request mell mell oru minnaminungint nurun...\n",
       "8       winner valu network custom select receivea 900...\n",
       "9       mobil 11 month u r entitl updat latest colour ...\n",
       "10      im gonna home soon dont want talk stuff anymor...\n",
       "11      six chanc win cash 100 20000 pound txt csh11 s...\n",
       "12      urgent 1 week free membership 100000 prize jac...\n",
       "13      ive search right word thank breather promis wo...\n",
       "14                                            date sunday\n",
       "15      xxxmobilemovieclub use credit click wap link n...\n",
       "16                                           oh kim watch\n",
       "17       eh u rememb 2 spell name ye v naughti make v wet\n",
       "18                   fine that way u feel that way gota b\n",
       "19      england v macedonia dont miss goalsteam news t...\n",
       "20                                     serious spell name\n",
       "21                           im go tri 2 month ha ha joke\n",
       "22                         ü pay first lar da stock comin\n",
       "23      aft finish lunch go str lor ard 3 smth lor u f...\n",
       "24                     ffffffffff alright way meet sooner\n",
       "25      forc eat slice im realli hungri tho suck mark ...\n",
       "26                                      lol alway convinc\n",
       "27      catch bu fri egg make tea eat mom left dinner ...\n",
       "28           im back amp pack car ill let know there room\n",
       "29                    ahhh work vagu rememb feel like lol\n",
       "                              ...                        \n",
       "5542                           armand say get ass epsilon\n",
       "5543                  u still havent got urself jacket ah\n",
       "5544    im take derek amp taylor walmart im back time ...\n",
       "5545                               hi durban still number\n",
       "5546                               ic lotta childporn car\n",
       "5547    contract mobil 11 mnth latest motorola nokia e...\n",
       "5548                                        tri weekend v\n",
       "5549    know wot peopl wear shirt jumper hat belt know...\n",
       "5550                                  cool time think get\n",
       "5551                      wen get spiritu deep that great\n",
       "5552    safe trip nigeria wish happi soon compani shar...\n",
       "5553                                  hahahaus brain dear\n",
       "5554    well keep mind ive got enough ga one round tri...\n",
       "5555    yeh indian nice tho kane bit shud go 4 drink s...\n",
       "5556                        ye that u text pshewmiss much\n",
       "5557    meant calcul ltgt unit ltgt school realli expe...\n",
       "5558                                 sorri ill call later\n",
       "5559                  arent next ltgt hour imma flip shit\n",
       "5560                                 anyth lor juz us lor\n",
       "5561                get dump heap mom decid come low bore\n",
       "5562    ok lor soni ericsson salesman ask shuhui say q...\n",
       "5563                                   ard 6 like dat lor\n",
       "5564                dont wait til least wednesday see get\n",
       "5565                                              huh lei\n",
       "5566    remind o2 get 250 pound free call credit detai...\n",
       "5567    2nd time tri 2 contact u u 750 pound prize 2 c...\n",
       "5568                              ü b go esplanad fr home\n",
       "5569                              piti mood soani suggest\n",
       "5570    guy bitch act like id interest buy someth els ...\n",
       "5571                                       rofl true name\n",
       "Name: message, Length: 5572, dtype: object"
      ]
     },
     "execution_count": 13,
     "metadata": {},
     "output_type": "execute_result"
    }
   ],
   "source": [
    "# Stemming\n",
    "from nltk.stem import PorterStemmer\n",
    "st = PorterStemmer()\n",
    "sms['message'].apply(lambda x: \" \".join([st.stem(word) for word in x.split()]))"
   ]
  },
  {
   "cell_type": "code",
   "execution_count": 15,
   "metadata": {},
   "outputs": [
    {
     "data": {
      "text/plain": [
       "weathers       1\n",
       "updat          1\n",
       "isare          1\n",
       "honesty        1\n",
       "7ws            1\n",
       "canlove        1\n",
       "stoners        1\n",
       "senor          1\n",
       "elaborating    1\n",
       "barcelona      1\n",
       "dtype: int64"
      ]
     },
     "execution_count": 15,
     "metadata": {},
     "output_type": "execute_result"
    }
   ],
   "source": [
    "# Rare words removal\n",
    "\n",
    "freq = pd.Series(' '.join(sms['message']).split()).value_counts()[-10:]\n",
    "freq"
   ]
  },
  {
   "cell_type": "code",
   "execution_count": 16,
   "metadata": {},
   "outputs": [
    {
     "data": {
      "text/plain": [
       "0    go jurong point crazy available bugis n great ...\n",
       "1                              ok lar joking wif u oni\n",
       "2    free entry 2 wkly comp win fa cup final tkts 2...\n",
       "3                  u dun say early hor u c already say\n",
       "4          nah dont think goes usf lives around though\n",
       "Name: message, dtype: object"
      ]
     },
     "execution_count": 16,
     "metadata": {},
     "output_type": "execute_result"
    }
   ],
   "source": [
    "freq = list(freq.index)\n",
    "sms['message'] = sms['message'].apply(lambda x: \" \".join(x for x in x.split() if x not in freq))\n",
    "sms['message'].head()"
   ]
  },
  {
   "cell_type": "code",
   "execution_count": 17,
   "metadata": {},
   "outputs": [],
   "source": [
    "X = sms.message\n",
    "y = sms.label"
   ]
  },
  {
   "cell_type": "code",
   "execution_count": 18,
   "metadata": {},
   "outputs": [
    {
     "name": "stdout",
     "output_type": "stream",
     "text": [
      "(4179,)\n",
      "(1393,)\n",
      "(4179,)\n",
      "(1393,)\n"
     ]
    }
   ],
   "source": [
    "# split X and y into training and testing sets\n",
    "from sklearn.model_selection import train_test_split\n",
    "X_train, X_test, y_train, y_test = train_test_split(X, y, random_state=1)\n",
    "print(X_train.shape)\n",
    "print(X_test.shape)\n",
    "print(y_train.shape)\n",
    "print(y_test.shape)"
   ]
  },
  {
   "cell_type": "code",
   "execution_count": 56,
   "metadata": {},
   "outputs": [],
   "source": [
    "from sklearn.feature_extraction.text import TfidfVectorizer\n",
    "tfidf = TfidfVectorizer(analyzer = 'word', min_df=5, max_features=1000)\n",
    "train_vect = tfidf.fit_transform(X_train)"
   ]
  },
  {
   "cell_type": "code",
   "execution_count": 57,
   "metadata": {},
   "outputs": [
    {
     "data": {
      "text/plain": [
       "<4179x1000 sparse matrix of type '<class 'numpy.float64'>'\n",
       "\twith 23833 stored elements in Compressed Sparse Row format>"
      ]
     },
     "execution_count": 57,
     "metadata": {},
     "output_type": "execute_result"
    }
   ],
   "source": [
    "train_vect"
   ]
  },
  {
   "cell_type": "code",
   "execution_count": 58,
   "metadata": {},
   "outputs": [],
   "source": [
    "test_vect = tfidf.transform(X_test)"
   ]
  },
  {
   "cell_type": "code",
   "execution_count": 59,
   "metadata": {},
   "outputs": [
    {
     "data": {
      "text/plain": [
       "<1393x1000 sparse matrix of type '<class 'numpy.float64'>'\n",
       "\twith 7923 stored elements in Compressed Sparse Row format>"
      ]
     },
     "execution_count": 59,
     "metadata": {},
     "output_type": "execute_result"
    }
   ],
   "source": [
    "test_vect"
   ]
  },
  {
   "cell_type": "code",
   "execution_count": 60,
   "metadata": {},
   "outputs": [],
   "source": [
    "# Now we have processed the text to make it useful for running further classification or Regression algorithms\n",
    "\n",
    "# import and instantiate a Multinomial Naive Bayes model\n",
    "from sklearn.naive_bayes import MultinomialNB\n",
    "nb = MultinomialNB()"
   ]
  },
  {
   "cell_type": "code",
   "execution_count": 61,
   "metadata": {},
   "outputs": [
    {
     "name": "stdout",
     "output_type": "stream",
     "text": [
      "Wall time: 1.99 ms\n"
     ]
    },
    {
     "data": {
      "text/plain": [
       "MultinomialNB(alpha=1.0, class_prior=None, fit_prior=True)"
      ]
     },
     "execution_count": 61,
     "metadata": {},
     "output_type": "execute_result"
    }
   ],
   "source": [
    "# train the model using train_vect (timing it with an IPython \"magic command\")\n",
    "%time nb.fit(train_vect, y_train)"
   ]
  },
  {
   "cell_type": "code",
   "execution_count": 62,
   "metadata": {},
   "outputs": [],
   "source": [
    "# make class predictions for test_vect\n",
    "y_pred_class = nb.predict(test_vect)"
   ]
  },
  {
   "cell_type": "code",
   "execution_count": 63,
   "metadata": {},
   "outputs": [
    {
     "data": {
      "text/plain": [
       "0.9813352476669059"
      ]
     },
     "execution_count": 63,
     "metadata": {},
     "output_type": "execute_result"
    }
   ],
   "source": [
    "# calculate accuracy of class predictions\n",
    "from sklearn import metrics\n",
    "metrics.accuracy_score(y_test, y_pred_class)"
   ]
  },
  {
   "cell_type": "code",
   "execution_count": 64,
   "metadata": {},
   "outputs": [
    {
     "data": {
      "text/plain": [
       "array([[1208,    0],\n",
       "       [  26,  159]], dtype=int64)"
      ]
     },
     "execution_count": 64,
     "metadata": {},
     "output_type": "execute_result"
    }
   ],
   "source": [
    "# print the confusion matrix\n",
    "metrics.confusion_matrix(y_test, y_pred_class)"
   ]
  },
  {
   "cell_type": "code",
   "execution_count": 65,
   "metadata": {},
   "outputs": [
    {
     "data": {
      "text/plain": [
       "Series([], Name: message, dtype: object)"
      ]
     },
     "execution_count": 65,
     "metadata": {},
     "output_type": "execute_result"
    }
   ],
   "source": [
    "# print message text for the false positives (ham incorrectly classified as spam)\n",
    "X_test[(y_pred_class==1) & (y_test==0)]\n",
    "#or more elegant way is to use X_test[y_pred_class > y_test]\n",
    "\n",
    "# There are absolutely no false positives in this case."
   ]
  },
  {
   "cell_type": "code",
   "execution_count": 66,
   "metadata": {},
   "outputs": [
    {
     "data": {
      "text/plain": [
       "1217              1 new voicemail please call 08719181513\n",
       "3132    lookatme thanks purchase video clip lookatme y...\n",
       "2295                1 new message please call 08718738034\n",
       "420     send logo 2 ur lover 2 names joined heart txt ...\n",
       "5110                1 new message please call 08715205273\n",
       "4965    dear voucher holder next meal us use following...\n",
       "943     getting touch folks waiting company txt back n...\n",
       "3530    xmas new years eve tickets sale club day 10am ...\n",
       "684     hi im sue 20 years old work lapdancer love sex...\n",
       "4073    loans purpose even bad credit tenants welcome ...\n",
       "1875         would like see xxx pics hot nearly banned uk\n",
       "1328    ur balance 500 ur next question sang uptown gi...\n",
       "3755    bloomberg message center 447797706009 wait app...\n",
       "1893    call 09090900040 listen extreme dirty live cha...\n",
       "4298    thesmszonecom lets send free anonymous masked ...\n",
       "4949    hi amy sending free phone number couple days g...\n",
       "1172    got takes 2 take part wrc rally oz u lucozade ...\n",
       "761     romantic paris 2 nights 2 flights 79 book 4 ne...\n",
       "2941                1 new message please call 08712400200\n",
       "3564    auction round 4 highest bid 54 next maximum bi...\n",
       "2821    interflora late order interflora flowers chris...\n",
       "5037    wont believe true incredible txts reply g lear...\n",
       "191     unique enough find 30th august wwwareyouunique...\n",
       "2247    hi ya babe x u 4goten bout scammers getting sm...\n",
       "4514                     money wining number 946 wot next\n",
       "1961    guess somebody know secretly fancies wanna fin...\n",
       "Name: message, dtype: object"
      ]
     },
     "execution_count": 66,
     "metadata": {},
     "output_type": "execute_result"
    }
   ],
   "source": [
    "# print message text for the false negatives (spam incorrectly classified as ham)\n",
    "X_test[(y_pred_class==0) & (y_test==1)]\n",
    "#or more elegant way is to use \n",
    "#X_test[y_pred_class < y_test]"
   ]
  },
  {
   "cell_type": "code",
   "execution_count": 67,
   "metadata": {},
   "outputs": [],
   "source": [
    "# Comparing models\n",
    "#We will compare multinomial Naive Bayes with logistic regression:\n",
    "\n",
    "# import and instantiate a logistic regression model\n",
    "from sklearn.linear_model import LogisticRegression\n",
    "logreg = LogisticRegression()"
   ]
  },
  {
   "cell_type": "code",
   "execution_count": 68,
   "metadata": {},
   "outputs": [
    {
     "name": "stdout",
     "output_type": "stream",
     "text": [
      "Wall time: 9.97 ms\n"
     ]
    },
    {
     "data": {
      "text/plain": [
       "LogisticRegression(C=1.0, class_weight=None, dual=False, fit_intercept=True,\n",
       "          intercept_scaling=1, max_iter=100, multi_class='ovr', n_jobs=1,\n",
       "          penalty='l2', random_state=None, solver='liblinear', tol=0.0001,\n",
       "          verbose=0, warm_start=False)"
      ]
     },
     "execution_count": 68,
     "metadata": {},
     "output_type": "execute_result"
    }
   ],
   "source": [
    "# train the model using X_train_dtm\n",
    "%time logreg.fit(train_vect, y_train)"
   ]
  },
  {
   "cell_type": "code",
   "execution_count": 69,
   "metadata": {},
   "outputs": [],
   "source": [
    "# make class predictions for X_test_dtm\n",
    "y_pred_class = logreg.predict(test_vect)"
   ]
  },
  {
   "cell_type": "code",
   "execution_count": 70,
   "metadata": {},
   "outputs": [
    {
     "data": {
      "text/plain": [
       "0.9676956209619526"
      ]
     },
     "execution_count": 70,
     "metadata": {},
     "output_type": "execute_result"
    }
   ],
   "source": [
    "# calculate accuracy\n",
    "metrics.accuracy_score(y_test, y_pred_class)"
   ]
  },
  {
   "cell_type": "code",
   "execution_count": 71,
   "metadata": {},
   "outputs": [],
   "source": [
    "# Examining a model for further insight\n",
    "#We will examine the our trained Naive Bayes model to calculate the approximate \"spamminess\" of each token."
   ]
  },
  {
   "cell_type": "code",
   "execution_count": 72,
   "metadata": {},
   "outputs": [
    {
     "data": {
      "text/plain": [
       "1000"
      ]
     },
     "execution_count": 72,
     "metadata": {},
     "output_type": "execute_result"
    }
   ],
   "source": [
    "# store the vocabulary of X_train\n",
    "X_train_tokens = tfidf.get_feature_names()\n",
    "len(X_train_tokens)"
   ]
  },
  {
   "cell_type": "code",
   "execution_count": 73,
   "metadata": {},
   "outputs": [
    {
     "name": "stdout",
     "output_type": "stream",
     "text": [
      "['0800', '08000839402', '08000930705', '08712460324', '10', '100', '1000', '10000', '10p', '10pmin', '11mths', '12', '12hrs', '150', '150p', '150pmsg', '150ppm', '16', '18', '1st', '200', '2000', '2003', '250', '2day', '2nd', '2nite', '300', '3030', '350', '4u', '500', '5000', '750', '800', '8007', '86688', '87066', '900', 'abiola', 'able', 'abt', 'accept', 'account', 'across', 'actually', 'address', 'admirer', 'aft', 'afternoon']\n"
     ]
    }
   ],
   "source": [
    "# examine the first 50 tokens\n",
    "print(X_train_tokens[0:50])"
   ]
  },
  {
   "cell_type": "code",
   "execution_count": 74,
   "metadata": {},
   "outputs": [
    {
     "name": "stdout",
     "output_type": "stream",
     "text": [
      "['wil', 'win', 'wine', 'winner', 'wish', 'wishes', 'wit', 'within', 'without', 'wk', 'wkly', 'woke', 'wonder', 'wonderful', 'wont', 'word', 'words', 'work', 'working', 'world', 'worried', 'worry', 'worth', 'wot', 'would', 'wow', 'write', 'wrong', 'wwwgetzedcouk', 'xmas', 'xx', 'xxx', 'xy', 'ya', 'yar', 'yeah', 'year', 'years', 'yep', 'yes', 'yest', 'yesterday', 'yet', 'yo', 'youd', 'youll', 'youre', 'youve', 'yr', 'yup']\n"
     ]
    }
   ],
   "source": [
    "# examine the last 50 tokens\n",
    "print(X_train_tokens[-50:])"
   ]
  },
  {
   "cell_type": "code",
   "execution_count": 75,
   "metadata": {},
   "outputs": [
    {
     "data": {
      "text/plain": [
       "array([[ 0.        ,  0.        ,  0.        , ...,  3.83878372,\n",
       "         0.72139445, 16.87361079],\n",
       "       [ 4.13269036,  2.96920949,  3.21125201, ...,  1.18531009,\n",
       "         2.93756384,  0.        ]])"
      ]
     },
     "execution_count": 75,
     "metadata": {},
     "output_type": "execute_result"
    }
   ],
   "source": [
    "# Naive Bayes counts the number of times each token appears in each class\n",
    "nb.feature_count_"
   ]
  },
  {
   "cell_type": "code",
   "execution_count": 76,
   "metadata": {},
   "outputs": [
    {
     "data": {
      "text/plain": [
       "(2, 1000)"
      ]
     },
     "execution_count": 76,
     "metadata": {},
     "output_type": "execute_result"
    }
   ],
   "source": [
    "# rows represent classes, columns represent tokens\n",
    "nb.feature_count_.shape"
   ]
  },
  {
   "cell_type": "code",
   "execution_count": 77,
   "metadata": {},
   "outputs": [
    {
     "data": {
      "text/plain": [
       "array([ 0.        ,  0.        ,  0.        ,  0.        ,  3.00068097,\n",
       "        0.63882256,  0.        ,  0.        ,  0.        ,  0.        ,\n",
       "        0.        ,  1.69925916,  0.        ,  0.        ,  0.        ,\n",
       "        0.        ,  0.        ,  0.708755  ,  0.        ,  3.09129975,\n",
       "        0.        ,  0.        ,  0.        ,  0.        ,  1.36838677,\n",
       "        3.28540141,  2.31926667,  0.        ,  0.        ,  0.        ,\n",
       "        1.91153396,  0.        ,  0.        ,  0.        ,  0.        ,\n",
       "        0.        ,  0.        ,  0.        ,  1.29387818,  3.88428253,\n",
       "        7.21166771, 10.5756323 ,  2.85656087,  4.54525695,  2.57928739,\n",
       "        8.64140604,  6.99784206,  0.        ,  5.04847181,  8.05747954,\n",
       "        1.69102484,  3.7873289 ,  9.10659826,  4.69883925, 14.43026468,\n",
       "        4.00866309,  3.18426299,  3.80280439,  4.46541659, 23.17180929,\n",
       "        8.36218177, 22.77160898, 15.17921022, 14.86709023,  3.19614852,\n",
       "       10.89662847,  1.11058738,  4.2728777 ,  3.92547729, 25.84808293,\n",
       "        2.98762367,  7.90664751,  1.15977837,  7.40554899,  2.17162156,\n",
       "       14.89536547,  1.79469936, 23.37301142,  3.83282262,  9.47904272,\n",
       "        5.00869158,  4.67294285,  0.27787242,  0.49557325,  3.85773061,\n",
       "        0.32521663,  0.51154767,  0.        ,  6.47551882,  7.38351624,\n",
       "        2.31503809, 20.11642133,  1.69835871,  9.20209842, 30.42386477,\n",
       "        9.58455058,  3.12535976,  3.17351932,  2.87591304,  3.67627207,\n",
       "        2.87635902,  4.17201785,  4.07521891,  9.99293355,  7.14071838,\n",
       "       10.18757879,  9.53862765, 11.44800914, 11.28430239, 12.31826639,\n",
       "        3.8552622 ,  0.        ,  0.        ,  4.45828094,  3.1164959 ,\n",
       "        4.91552287,  2.36784634,  3.84364392,  1.31556676,  7.31842333,\n",
       "        5.78670149,  4.51427091,  9.82135584,  7.20765671,  2.69063613,\n",
       "        4.24525118,  0.        ,  2.48331301,  9.97349435,  5.60737752,\n",
       "       15.22992042,  3.72346539, 51.39512532,  9.66760892,  3.42930751,\n",
       "        3.77309051,  3.32868747,  0.        , 10.42576622,  1.1175441 ,\n",
       "        1.05445799, 29.82436965, 10.69676331,  2.63436735, 17.15247972,\n",
       "        6.23342383,  4.06837197,  4.74778959,  2.45150694,  6.07433707,\n",
       "        2.18769081,  4.58696658,  7.77508132,  2.30198862,  0.        ,\n",
       "        4.31474393,  2.23067816, 14.4497923 ,  4.10449989,  3.47788948,\n",
       "        6.42973564,  4.56611849,  2.62907612,  3.72404833,  0.        ,\n",
       "       17.85181331,  4.91424464,  0.27008704,  0.33388514,  1.66919123,\n",
       "        1.44906268,  0.        ,  7.70613406,  1.30938821, 60.72315597,\n",
       "        5.12841645,  4.80332921, 17.0702847 ,  0.70710678,  5.68869606,\n",
       "        3.41302929,  3.62532111,  0.        ,  2.82220456,  2.88088219,\n",
       "        2.24154064,  0.        ,  3.83610505,  0.        ,  2.92620446,\n",
       "       15.34638766,  3.1691053 ,  4.2747507 , 16.16823388,  3.52781774,\n",
       "       14.90041565,  3.90089158,  5.50506668,  4.98215897,  3.30488227,\n",
       "        2.94402407,  1.06819318,  0.        ,  0.        ,  3.58471399,\n",
       "        1.03051791,  0.        ,  3.71004527,  3.65358893,  2.03523007,\n",
       "       40.50735096, 10.2050574 ,  4.93991802,  3.80515369,  9.07566735,\n",
       "        4.31817949,  0.        , 39.4105178 ,  5.65859459,  9.75537154,\n",
       "        3.45046815, 30.07620992,  3.38835219,  3.66846405,  0.32290386,\n",
       "        7.33172522,  3.67026407,  7.30537325, 21.08722895,  4.37772182,\n",
       "        5.23303625,  4.32486344, 12.74072534,  0.26855184,  9.27469834,\n",
       "        1.42466722,  4.33305124,  7.15372529,  0.        ,  3.29259173,\n",
       "       14.46093035, 57.36875669,  2.18725119,  4.21599609,  2.16449718,\n",
       "        2.05674219,  2.96026184,  5.42318154,  7.6073618 ,  5.84667393,\n",
       "        5.53439737,  9.6307826 , 14.73617556,  8.49037698,  0.71286684,\n",
       "        6.03628938,  8.96617043,  5.34844293, 11.10789584,  0.        ,\n",
       "        4.34811408,  3.71591089,  7.70891582,  2.93080304,  6.02550454,\n",
       "        6.65547773,  0.35987568,  1.88785994,  2.38445957,  9.12071444,\n",
       "        9.11260377,  0.93555703,  0.45772777,  0.        ,  0.46054146,\n",
       "        5.08336495, 13.23544271,  9.37143975, 10.16325461,  8.15843955,\n",
       "        3.79280455,  7.89048469,  4.08731406,  4.499041  ,  0.        ,\n",
       "        1.35473494,  6.37476621,  3.87611208,  3.1247763 ,  7.24945103,\n",
       "        1.12745734,  0.43588278,  4.41617365,  3.66601783,  3.66047785,\n",
       "       15.60090165,  6.98951753,  2.79452486,  2.47923677,  3.43658575,\n",
       "        4.07860016,  0.8357704 ,  4.89307596, 10.47424223, 17.77237471,\n",
       "       12.22736495,  7.31760081, 15.50202105,  2.05141011,  3.37614697,\n",
       "        7.69946845,  3.83975796,  4.83300284,  9.34489532,  1.85786188,\n",
       "        4.14205375,  4.70255858, 14.51883368,  0.        ,  4.21497264,\n",
       "        3.58029171,  8.63999163, 12.71870411,  5.66082567,  2.77090498,\n",
       "        3.17881609,  3.94252953,  8.44245431,  5.35269911,  7.35266334,\n",
       "        6.69394122,  4.48219316,  0.37071782,  3.95707425,  5.0740701 ,\n",
       "       67.9051411 ,  3.3654867 ,  2.65016873, 14.32180424,  1.43254983,\n",
       "        8.3936367 ,  3.63613473, 25.69999625,  4.01388907, 52.30182433,\n",
       "        8.55622866,  6.29791777,  5.95826808, 48.45668745,  6.12443165,\n",
       "       16.72138383, 51.97576298,  5.59446995,  3.51497311, 57.79210821,\n",
       "        5.37739021,  3.95924966, 26.92035571,  3.29536627,  3.35213444,\n",
       "        0.        , 14.13508729, 11.90390824,  6.63884591,  9.8046914 ,\n",
       "        5.1347816 ,  5.15310651,  6.25793546, 13.86196375,  9.04376676,\n",
       "        9.17306129,  4.30007733,  9.07116631,  5.9647662 ,  3.23530269,\n",
       "        3.86473017, 20.90783687,  3.6168716 ,  5.81369402, 14.14857308,\n",
       "        6.17972555,  9.49346102,  3.89003495, 11.44725823,  5.43621837,\n",
       "        3.41595447, 11.77778402, 12.14925689,  9.99665645, 25.82765112,\n",
       "       29.29899596,  3.21570641,  4.03828313,  3.06764529,  3.63471699,\n",
       "        4.93091577,  3.50997597, 43.32971294, 22.0099785 ,  3.1716204 ,\n",
       "        0.        ,  3.86360802,  2.71823177,  2.12009247,  9.88360166,\n",
       "        6.94822904, 11.77904925, 16.42820808,  6.51326631,  3.5591957 ,\n",
       "        5.04386286,  7.66830667,  0.        , 62.16173032, 97.19967677,\n",
       "        1.31642715,  3.85158367,  0.        ,  3.88272793,  0.89588771,\n",
       "        1.34394513,  1.39494097,  0.        ,  5.10649583, 19.83884135,\n",
       "        3.91748889,  3.88310974, 14.16545818,  2.49383414,  3.9520279 ,\n",
       "        7.77549988,  9.42383766,  3.99601842, 14.78218878,  2.15582111,\n",
       "        3.06020385,  4.23502582,  6.47417253,  5.6989191 , 54.92909427,\n",
       "        6.20403909,  0.        ,  0.83773637,  6.10356827, 10.16235041,\n",
       "       14.78007031, 17.07470706, 43.83912154,  0.48723799,  2.21132715,\n",
       "        3.71893988,  0.        ,  3.67479044, 15.87454438,  3.22197085,\n",
       "        5.9390708 ,  9.50295252,  7.40704167,  8.27722799,  3.03090356,\n",
       "        4.76953179,  2.76266567, 18.5409317 ,  6.80933373, 10.78914922,\n",
       "       14.3703672 ,  3.42411761, 53.50984251,  3.60667774,  2.17781005,\n",
       "        1.24443321,  4.32600719,  7.38892646,  5.39116535,  4.24318395,\n",
       "        2.00127451,  2.41841161, 27.99478873, 13.47533678,  3.28469389,\n",
       "        7.47282041,  7.93623221, 39.6891941 ,  3.52721254,  5.56118189,\n",
       "       11.56943124,  5.61327643, 37.2816743 ,  3.14210474,  5.42177527,\n",
       "        2.55088201,  2.53106404,  2.02077612,  0.        ,  0.        ,\n",
       "        6.7833698 , 61.24836224,  2.22211393,  2.83858771, 12.67734198,\n",
       "        7.78443243,  7.9048854 ,  4.26782351,  9.42354971, 22.90645165,\n",
       "        6.69554971,  7.04805288, 10.46754453, 17.46736749,  3.4104658 ,\n",
       "        3.41624227,  0.99551932,  0.        ,  5.91364769,  0.91231226,\n",
       "       12.60933945,  3.11110038,  9.53599499,  5.50709765,  7.94928246,\n",
       "        4.74405187, 18.54070288, 17.79285473, 14.48297424,  2.75406013,\n",
       "        2.73041499, 11.99553991,  9.72262034, 10.36853108,  6.00413311,\n",
       "        4.59825392,  3.42747331, 11.31162173, 18.5095091 ,  5.07185632,\n",
       "        7.35143877,  5.39789865,  0.        ,  2.95507223,  0.        ,\n",
       "        0.        ,  3.400175  ,  4.49000512,  3.94281306,  4.07502546,\n",
       "       13.56174923,  9.37790856,  2.43874992, 19.57664963,  0.29295862,\n",
       "        3.60587336,  5.92834621,  4.26944936,  3.34162527, 14.45064091,\n",
       "        2.19454156,  5.20354547, 32.56665778,  4.68851944,  0.81026426,\n",
       "        5.31486028,  2.88968285,  3.88397891,  4.09369489,  8.23046664,\n",
       "        0.        ,  3.51074718, 37.81906217,  4.82570614,  1.61056532,\n",
       "        5.99859904, 12.14979052, 17.56451624,  2.37089418, 14.27873427,\n",
       "        4.11170637, 13.85704291, 26.30185151,  8.54780799,  0.54833377,\n",
       "        6.36483407,  1.00514118,  3.98655813,  6.45946112,  3.59776197,\n",
       "       10.76248088,  6.31121275,  0.        , 17.04501565,  1.30339173,\n",
       "        2.93365738,  1.86387949,  0.46906435,  7.31284986, 36.88386816,\n",
       "       84.86984281,  9.68161324,  9.04003934,  6.76232519,  4.14183937,\n",
       "       35.98226113,  2.56391934,  7.57018261,  5.21634638,  6.76428867,\n",
       "        0.        ,  3.48535049,  0.        ,  0.40824895,  3.02380508,\n",
       "        2.54054905,  5.39077005,  5.08197865,  4.70235462,  4.00065817,\n",
       "       12.00964848,  6.77370708,  3.4832605 ,  3.80279589,  3.48854827,\n",
       "        6.24724092,  6.44400796,  1.11082393,  2.09993475,  8.89266805,\n",
       "        0.9962354 , 11.27902252,  3.63214641,  8.79996258,  2.71868342,\n",
       "       22.11095574,  0.52522721,  1.78370327,  1.33355395, 24.05683569,\n",
       "        2.16447639,  4.55281497,  1.88057396, 15.82003685, 12.43266947,\n",
       "        4.24610712,  5.39181664,  1.        , 22.14664404, 25.27393401,\n",
       "        4.90523892,  7.1149994 ,  3.2704004 ,  0.57536593,  0.        ,\n",
       "        4.75436447,  2.28089681,  0.        ,  3.37732861,  5.4491898 ,\n",
       "        4.23917816,  0.39582118,  2.42375427,  6.60732641,  2.56810679,\n",
       "       14.30756594,  0.        ,  0.        ,  6.60254969, 11.11549461,\n",
       "        9.93797608,  5.68404822,  4.82581419,  8.76218432,  4.09386363,\n",
       "        1.90029682,  9.4763149 ,  0.        ,  2.1686958 ,  0.47147416,\n",
       "        0.2390117 ,  9.18761877,  3.44026303,  4.43520858,  3.50908296,\n",
       "       12.89887805,  6.46760514, 23.7631852 ,  4.12394443,  2.87132756,\n",
       "       10.78060896,  1.57057346,  2.670538  ,  0.        ,  8.02632697,\n",
       "        0.        ,  2.65000469,  0.        , 28.43987445,  4.69037753,\n",
       "        0.        ,  5.78705248, 11.79042336,  1.64718368,  0.        ,\n",
       "        7.68946363,  6.86420519,  0.        ,  4.64955615, 17.10146123,\n",
       "        2.14228882,  8.77898296,  2.63754195,  0.        ,  2.22448819,\n",
       "        9.11173201, 24.05067166,  6.42002504,  7.63701795,  6.59353601,\n",
       "        8.64266193,  3.55187993,  4.59101546,  6.55291741,  1.31480429,\n",
       "       36.37150929,  6.04804493,  3.4001467 ,  4.8060781 ,  1.94741824,\n",
       "        2.67672516,  4.52222525, 28.62641378,  4.45540624, 15.37308082,\n",
       "        0.92373114,  0.33309989,  6.54319342,  0.61955253,  2.6508279 ,\n",
       "       12.40254026, 10.31592166, 11.62153989,  3.8924951 ,  7.27552531,\n",
       "        2.59265186,  5.68286849,  0.60650605,  3.09623422,  4.03774746,\n",
       "        4.20719179,  1.41258587,  4.28565172,  7.15154902, 14.83597177,\n",
       "        4.92480139,  5.90957477,  3.79280202,  2.87203938, 14.12908824,\n",
       "        5.21500155,  3.61046869,  3.93377928,  8.87985935,  4.81218465,\n",
       "        4.77068939,  5.17621167,  4.3898895 , 10.37615845, 21.30584612,\n",
       "        3.90980568,  3.43158112,  0.40537892, 14.11547857, 43.3864914 ,\n",
       "        2.50922424,  3.08726934,  5.05829786,  3.53952095,  7.77822659,\n",
       "        9.38179692,  0.        ,  0.        ,  3.38704949,  2.58991931,\n",
       "        0.4303619 ,  3.55297226,  8.09079361,  6.09706818,  1.04874375,\n",
       "        1.55294938,  0.454148  ,  4.68271188,  3.48652119,  0.        ,\n",
       "       41.96832989,  9.32120065,  1.03560986,  6.12668582,  3.57589784,\n",
       "        4.01978023,  3.26634003, 11.51581144,  3.54217341,  1.95358593,\n",
       "        5.08932767,  2.30602185,  0.44461574,  3.2380002 ,  5.85886467,\n",
       "       20.04601906,  1.60019562,  8.19901135,  3.26896037, 30.76826257,\n",
       "        3.60454932,  6.65144776, 15.51834671,  7.07456121,  4.7419432 ,\n",
       "        0.56769557,  0.        ,  4.03022904, 30.77393607,  4.03515022,\n",
       "        4.01150484,  0.        ,  0.53947851,  6.28726686, 16.68826613,\n",
       "        3.667534  ,  3.44846883,  8.84104253, 20.58561329, 11.28364988,\n",
       "       29.0532317 ,  8.3100847 , 15.49316291,  8.94890507, 33.26092642,\n",
       "        4.3780454 ,  6.92310768,  0.68853339, 12.62929419,  4.32190314,\n",
       "        7.64915683, 13.22648765,  3.88812012,  2.43641532,  7.45005166,\n",
       "        4.89953363, 46.30355814,  6.54931854,  5.37294976,  9.3409552 ,\n",
       "       34.78878087,  2.94975365,  7.38195394, 19.03828043,  5.25112114,\n",
       "       23.53968285,  0.        ,  0.        , 17.68274021,  6.28271322,\n",
       "        1.58366967,  6.6263672 ,  5.42709236, 10.57645297,  3.11772177,\n",
       "        4.88710545,  6.29758566,  1.50888913,  5.80197056,  2.38682134,\n",
       "        5.49257171,  3.64108554,  2.71341846, 12.72391523,  9.58484561,\n",
       "        0.        ,  9.46633903,  8.9961372 ,  3.73766572,  0.7230793 ,\n",
       "        0.        ,  5.05470872,  0.        ,  4.69063235,  0.42051724,\n",
       "        4.97185092,  2.91828002,  3.58335288,  2.22933154,  0.        ,\n",
       "        0.        ,  2.05617919, 46.58644545,  3.48316536,  0.36196916,\n",
       "        3.84649977, 15.39806502, 12.60421955,  3.34644637,  0.26849331,\n",
       "        3.24180888,  1.71688443,  0.        ,  0.49887506,  1.27115572,\n",
       "        0.69366528,  2.40955395,  3.62805914,  2.97123867,  0.32161667,\n",
       "        0.        , 14.79444908, 10.56577068,  7.99399248,  6.6181408 ,\n",
       "        2.9168356 , 14.07585191,  4.96898348,  8.69559546, 41.76996146,\n",
       "        5.93716439,  5.87596705,  0.        ,  5.22213816, 28.96381351,\n",
       "       10.14443102, 13.28212876,  4.633181  ,  5.39201137, 26.79767009,\n",
       "        3.92941518,  2.92417242,  3.90641821, 17.87145141,  6.9805243 ,\n",
       "        1.41004875,  0.        ,  0.84395283,  1.77854821, 31.89475883,\n",
       "        6.12461666, 14.96825238,  6.68580765, 12.0272162 ,  4.31727259,\n",
       "        4.06275845,  3.41943656,  2.90210873,  8.162305  ,  4.24474314,\n",
       "        6.8488499 ,  2.18709038,  6.05952044,  0.        , 12.78525507,\n",
       "        2.59641251,  3.62571979,  1.46659426,  6.63120626,  2.51780057,\n",
       "        0.        ,  3.65341993,  3.96899703,  5.11400829, 14.33458171,\n",
       "        3.72447109,  7.18967583, 27.4183939 ,  9.05582589,  7.8577204 ,\n",
       "        3.49569728,  6.77210172,  1.49727912,  8.52943959, 16.09427862,\n",
       "        2.25319942,  4.07275055,  4.32809036,  0.        ,  3.3073873 ,\n",
       "        2.03599278,  7.42473243,  3.62774821, 16.77554094,  4.52139451,\n",
       "       26.98273089, 11.54441633,  6.38335209,  4.70107651, 22.31270151,\n",
       "        2.36020487,  7.42669168, 15.78725957, 10.16180162,  2.88946463,\n",
       "        4.53109013, 15.49210515,  3.83878372,  0.72139445, 16.87361079])"
      ]
     },
     "execution_count": 77,
     "metadata": {},
     "output_type": "execute_result"
    }
   ],
   "source": [
    "# number of times each token appears across all HAM messages\n",
    "ham_token_count = nb.feature_count_[0, :]\n",
    "ham_token_count"
   ]
  },
  {
   "cell_type": "code",
   "execution_count": 78,
   "metadata": {},
   "outputs": [
    {
     "data": {
      "text/plain": [
       "array([ 4.13269036,  2.96920949,  3.21125201,  2.53043317,  2.49184802,\n",
       "        7.74944611,  9.22453557,  2.24867661,  4.16670263,  2.8381051 ,\n",
       "        2.10974818,  3.33068381,  4.68884643,  7.42250148,  5.44712025,\n",
       "        3.27239057,  8.08327311,  9.1214979 ,  8.90047905,  5.49214859,\n",
       "        2.82037243,  8.29462221,  3.63001037,  5.76998147,  1.35961999,\n",
       "        3.95706367,  1.43303527,  2.15751601,  2.61382896,  3.36734587,\n",
       "        1.28081428,  7.7794004 ,  5.55755082,  4.2772141 ,  6.06138376,\n",
       "        5.35071799,  4.20837176,  2.77176492,  1.63620984,  0.        ,\n",
       "        0.        ,  0.        ,  0.        ,  4.19240013,  0.        ,\n",
       "        0.        ,  1.02794737,  3.14612993,  0.        ,  0.        ,\n",
       "        2.58440563,  0.        ,  0.        ,  0.        ,  0.        ,\n",
       "        0.        ,  0.        ,  0.        ,  1.04219569,  0.        ,\n",
       "        0.        ,  0.73880774,  0.        ,  0.        ,  0.        ,\n",
       "        0.        ,  1.95705487,  1.69695436,  0.35945905,  0.        ,\n",
       "        2.32970135,  0.        ,  6.23903517,  0.        ,  1.43994691,\n",
       "        0.85841162,  0.7985626 ,  0.        ,  0.        ,  1.44395723,\n",
       "        0.        ,  0.        ,  4.07443435,  3.15735636,  0.88713106,\n",
       "        4.61606701,  5.221223  ,  8.96993337,  1.15916938,  0.        ,\n",
       "        1.58191606,  2.0858452 ,  0.89845075,  0.61101164,  4.09270041,\n",
       "        0.        ,  0.        ,  0.51211521,  0.        ,  0.        ,\n",
       "        0.        ,  0.        ,  0.        ,  0.        ,  0.40152251,\n",
       "        1.88760394,  0.        ,  0.60044833,  0.29013481,  0.        ,\n",
       "        0.        ,  2.29559602,  4.69604565,  1.41272218,  0.        ,\n",
       "        1.12046351,  0.        ,  0.        ,  7.68301664,  0.        ,\n",
       "        0.        ,  0.69316651,  0.        ,  0.25734612,  0.        ,\n",
       "        1.20237032,  2.4095031 ,  0.        ,  0.        ,  0.        ,\n",
       "        0.97258001,  0.        , 46.00514717,  0.424324  ,  0.        ,\n",
       "        1.00021297,  2.74512777,  3.23524504,  0.30809882,  7.36302315,\n",
       "        1.23687667,  0.84398153,  0.        ,  1.37326921,  1.5705804 ,\n",
       "        0.        ,  0.        , 13.02414774,  0.        ,  0.        ,\n",
       "        0.        ,  5.67848608,  0.        ,  3.04643509,  2.87777536,\n",
       "        8.40589593,  0.65891478,  1.20546751,  0.        ,  0.        ,\n",
       "        0.        ,  0.        ,  2.37442123,  0.        , 20.99896841,\n",
       "        0.50038343,  0.62707253,  3.95463056,  6.35443387,  0.        ,\n",
       "        5.3078504 ,  6.4442446 ,  0.        ,  3.10583279,  0.27815117,\n",
       "        1.38880718,  0.        ,  0.        ,  2.07867333,  0.42049212,\n",
       "        0.44279395,  0.41219904,  3.19529684,  1.31169114,  0.32752631,\n",
       "        2.95127043,  4.02445033, 11.24636455,  2.81483098,  0.        ,\n",
       "        0.31612917,  0.        ,  1.3346475 ,  0.        ,  5.18140943,\n",
       "        1.79267577,  0.        ,  0.        ,  0.        ,  0.        ,\n",
       "        1.84401224,  2.28804673,  3.31390525,  3.24683802,  1.64037831,\n",
       "        2.46388406,  2.23344125, 12.35099711,  0.        ,  0.46740949,\n",
       "        0.        ,  0.        ,  0.        ,  0.        ,  0.        ,\n",
       "        1.94141777,  4.52849204,  2.55801976,  2.65544455,  0.        ,\n",
       "        0.        ,  2.92876754,  0.        ,  0.        ,  4.27931052,\n",
       "        0.        ,  0.        ,  1.0838447 ,  0.        ,  0.        ,\n",
       "        0.        ,  0.        ,  0.        ,  2.60592891,  0.36488791,\n",
       "        1.82344273,  0.        ,  0.        ,  3.61924788,  0.        ,\n",
       "        0.63874832,  3.36005902,  3.17233025,  0.74237058,  8.47327271,\n",
       "        1.19421052,  0.        ,  0.        ,  0.        ,  0.70372897,\n",
       "        0.56811703,  0.        ,  0.        ,  0.        ,  2.17878726,\n",
       "        0.        ,  0.        ,  2.91808754,  0.        ,  3.12873558,\n",
       "        0.        ,  2.55925188,  0.        ,  0.35702689,  0.8710329 ,\n",
       "        4.03565535,  1.76429126,  1.37380264,  0.83093764,  2.64328227,\n",
       "        0.26077624,  2.75955996,  1.80672554,  4.67316086,  2.66095618,\n",
       "        0.99910583,  1.04407486,  0.35471695,  0.91829581,  6.2914985 ,\n",
       "        0.78992852,  0.        ,  0.        ,  0.        ,  3.70439211,\n",
       "        1.76576644,  0.        ,  0.        ,  0.3261649 ,  0.        ,\n",
       "        1.84711146,  2.09781976,  0.        ,  0.        ,  0.        ,\n",
       "        0.        ,  0.56064275,  0.        ,  0.        ,  0.        ,\n",
       "        0.78820936,  3.13588586,  0.        ,  4.05447744,  0.        ,\n",
       "        0.        ,  0.        ,  1.82134582,  0.7934805 ,  1.32424056,\n",
       "        0.        ,  0.        ,  0.78053367,  0.        ,  1.49028637,\n",
       "        0.33754475,  0.        , 31.32558361,  3.08414766,  0.35253473,\n",
       "        0.        ,  3.24387192,  0.77430932,  0.        ,  0.        ,\n",
       "        2.11570063,  0.        ,  0.        ,  0.        ,  0.        ,\n",
       "        2.17524689,  2.64417724,  4.54975114,  0.        ,  0.        ,\n",
       "       12.28353988,  0.        ,  0.6937065 ,  0.65477577,  4.51899077,\n",
       "        0.58300896,  2.16010536,  1.85371359,  0.35171421,  5.25311765,\n",
       "        0.3076902 ,  0.        ,  0.        ,  0.74602216,  0.        ,\n",
       "        0.        ,  2.4677415 ,  0.        ,  0.        ,  1.33194027,\n",
       "        0.        ,  1.36099071,  1.86705017,  0.        ,  0.        ,\n",
       "       11.40136881,  0.        ,  1.45128919,  0.        ,  1.71910761,\n",
       "        0.        ,  0.        ,  0.        ,  0.        ,  0.        ,\n",
       "        2.57164057,  0.        ,  0.        ,  0.        ,  0.        ,\n",
       "        0.        ,  0.27146557,  0.36178108,  0.        ,  0.        ,\n",
       "        0.        ,  0.81310111,  1.08014935,  0.66985497,  0.        ,\n",
       "        0.        ,  0.9038254 ,  5.41229345,  0.        ,  0.9698888 ,\n",
       "        2.99986939,  0.70185757,  0.        ,  0.        ,  0.        ,\n",
       "        0.        ,  6.79111382,  0.47796879,  0.95671483,  0.        ,\n",
       "        2.2900384 ,  0.        ,  3.7391118 ,  0.75135493,  0.        ,\n",
       "        1.46807392,  0.        ,  0.        ,  0.        ,  0.56017473,\n",
       "        0.        ,  0.37499681,  3.70439211,  0.21704544,  1.85349132,\n",
       "        2.62897197,  3.65947953,  2.42357201,  0.36321676,  2.51915198,\n",
       "        2.66298836,  1.14294851,  2.46632799,  0.        ,  0.26255933,\n",
       "        0.        ,  0.        ,  0.        ,  0.        ,  3.96471283,\n",
       "        0.        ,  0.        ,  0.        ,  0.89143131,  1.09087344,\n",
       "        0.        ,  0.        ,  0.        ,  0.        ,  3.46778727,\n",
       "        0.        ,  5.28932134,  7.6284012 ,  0.        ,  0.        ,\n",
       "        2.4746633 ,  0.        ,  0.        ,  7.19590117,  0.37038078,\n",
       "        0.        ,  2.4743974 ,  0.        ,  0.56203737,  0.        ,\n",
       "        0.        ,  0.424324  ,  0.        ,  0.        ,  0.        ,\n",
       "        0.        ,  0.        ,  0.        ,  1.05116831,  0.        ,\n",
       "        0.59279404,  0.        ,  2.48673823,  0.        ,  8.15118556,\n",
       "        2.47552294,  0.44033436,  1.03016604,  4.54809773,  0.40778761,\n",
       "        1.49974817,  2.01101402,  0.        ,  0.        ,  0.        ,\n",
       "        0.93028832,  2.41694258,  0.        ,  0.37316915,  1.39358212,\n",
       "        0.        ,  0.28293994,  1.37073624,  0.        ,  0.        ,\n",
       "        0.37775134,  0.        ,  0.        ,  2.72987454,  4.0041533 ,\n",
       "        0.        ,  0.        ,  1.48342045,  1.92216052,  0.        ,\n",
       "        1.37035658,  0.3172178 ,  0.        ,  0.        ,  2.87502349,\n",
       "        0.        ,  0.        ,  0.28067099,  1.04341382,  0.        ,\n",
       "        0.        ,  1.59369175,  2.28177299,  0.        ,  3.19234669,\n",
       "        1.61466043,  0.        ,  0.26215295,  0.        ,  0.        ,\n",
       "        0.        ,  1.66013083,  0.        ,  8.06111049,  2.23473288,\n",
       "        0.33804617,  0.        ,  3.60077556,  0.36855541,  0.        ,\n",
       "        6.70671448,  1.97073502,  0.73853848,  1.41263201,  0.95749006,\n",
       "        0.35902075,  0.        ,  6.50976025, 20.94703632,  2.43836902,\n",
       "        3.22558783,  0.        ,  0.        ,  0.        ,  0.        ,\n",
       "        0.52955739,  0.33199816,  1.12255906,  0.        ,  2.20188824,\n",
       "        0.        ,  0.62201803,  0.        ,  0.        ,  5.16742877,\n",
       "        0.95741398,  0.        ,  0.24851013,  0.        ,  4.04111246,\n",
       "        0.70234257,  0.        ,  0.        ,  0.        ,  3.3388507 ,\n",
       "        2.66106834,  0.        ,  2.24360702,  0.36766317,  6.25247876,\n",
       "        0.        ,  0.2878191 , 12.84584707,  2.94340898,  3.00349822,\n",
       "        0.        ,  0.        ,  1.16478556,  0.        ,  1.85865264,\n",
       "        0.        , 11.50011381,  0.        ,  0.        ,  0.43092173,\n",
       "        1.38149753,  0.25269364,  2.990908  ,  4.96468753,  2.17124532,\n",
       "        0.2705258 ,  5.67760304,  2.42881023,  0.        ,  0.23997273,\n",
       "        0.74167011,  0.        ,  0.        ,  0.54974462,  0.        ,\n",
       "        1.60930648,  0.69845118,  0.        ,  0.        ,  0.33112797,\n",
       "        4.39029296,  0.        ,  3.94951582,  5.7787339 ,  0.        ,\n",
       "        2.93148964,  0.        ,  0.        ,  0.        ,  0.        ,\n",
       "        0.        ,  0.        ,  0.        ,  0.        ,  0.27457709,\n",
       "        1.90478811,  0.        ,  2.28748819,  1.24258744,  0.29110866,\n",
       "        1.83055312,  0.32924215,  9.19927122,  0.46004805,  0.3261649 ,\n",
       "        8.69251849,  2.98922885,  0.98218017,  2.96864305,  0.37609735,\n",
       "        1.06612693,  0.        ,  3.46035048,  1.22993466,  0.        ,\n",
       "        0.        ,  4.8916455 ,  3.18054137, 10.69057476,  2.23330097,\n",
       "        1.9114235 ,  0.        ,  0.64545897,  7.99542177,  3.49224419,\n",
       "        0.        ,  3.55767163,  4.26358264,  0.        ,  0.        ,\n",
       "        0.95594317,  2.48963513,  0.95164169,  0.        ,  3.86773554,\n",
       "        0.        ,  4.71894183, 19.40510152,  0.        ,  0.        ,\n",
       "        0.        ,  0.        ,  0.73104599,  0.35228615,  1.10355905,\n",
       "        2.1614825 ,  0.        ,  3.29093165,  0.        ,  4.27218724,\n",
       "        2.58237841,  0.3199586 ,  0.        ,  0.44586338,  0.        ,\n",
       "        1.99891597,  4.30794556,  0.22689214,  0.        ,  6.92608767,\n",
       "        0.        ,  0.97957563,  0.        ,  2.75262302, 18.95129458,\n",
       "        3.29731036,  0.34225478,  3.31320176,  0.56058045,  1.55108255,\n",
       "        7.54575714,  0.        ,  0.        ,  1.44132592,  2.52256968,\n",
       "        0.        ,  0.        ,  4.91348171,  0.        ,  0.        ,\n",
       "        1.52373388,  0.29104399,  2.4394489 ,  2.66918578,  0.63062147,\n",
       "        0.        ,  0.27684847,  0.        ,  0.        ,  0.        ,\n",
       "        0.        ,  0.        ,  0.6870874 ,  0.        ,  2.99566612,\n",
       "        3.60400959,  0.        ,  0.        ,  0.        ,  5.39338683,\n",
       "        0.30667662,  0.        , 10.81033158,  0.        ,  2.50047699,\n",
       "       13.34111054,  5.59896349,  0.3606859 ,  3.74329213,  4.07733229,\n",
       "        0.        ,  0.        ,  0.31006119,  2.36500026,  2.09712496,\n",
       "        0.        ,  1.34670705,  7.08040123,  0.        ,  0.        ,\n",
       "        0.        ,  1.66892166,  0.56334033,  0.94599759,  0.33975084,\n",
       "        0.        ,  0.        ,  0.        ,  0.        ,  0.        ,\n",
       "        0.        ,  0.        ,  0.        ,  0.        ,  0.        ,\n",
       "        0.        ,  7.01999638,  0.        ,  2.6291887 ,  0.        ,\n",
       "        0.        ,  1.1066508 ,  2.45729528,  0.30272512,  0.81354079,\n",
       "        0.45436729,  0.30823565,  0.29581781,  0.        ,  2.36654678,\n",
       "        2.76613379,  2.52256968,  2.25454054,  0.        ,  0.        ,\n",
       "        1.81587958,  0.66060617,  1.31020041,  0.38395239,  1.39056931,\n",
       "        1.13511408,  4.13169854,  1.08227615,  0.        ,  2.18013083,\n",
       "        0.93755699, 22.91931603,  2.19143615,  0.        ,  0.77073579,\n",
       "        0.        ,  0.        ,  0.50656159,  0.        ,  0.        ,\n",
       "        0.        ,  0.        ,  2.249483  ,  0.78613631,  0.        ,\n",
       "        0.        ,  1.37021891,  0.        ,  0.        ,  2.31310554,\n",
       "        1.20313694,  0.        ,  1.61750177,  0.        ,  0.        ,\n",
       "        5.42859925,  5.90572472,  0.40540208,  2.72267864,  0.        ,\n",
       "        0.        ,  1.93944618,  1.75665937,  0.        , 22.11353409,\n",
       "        3.88382194,  0.        ,  0.3652814 ,  3.44311365,  0.        ,\n",
       "        0.        ,  0.93524306,  0.28443787,  0.37072148,  0.71907846,\n",
       "        0.        ,  0.        ,  3.06459929,  0.        ,  0.        ,\n",
       "        0.        ,  0.33049901,  0.        ,  0.40657402,  0.        ,\n",
       "        0.56811703,  4.25404096,  0.        ,  0.        ,  0.        ,\n",
       "        2.4901724 ,  4.6020025 ,  0.        ,  0.        ,  0.        ,\n",
       "        1.35625665, 10.64743366,  4.94286255,  0.4296141 ,  0.        ,\n",
       "        3.96653771,  0.        ,  0.        ,  0.92192736,  0.        ,\n",
       "        0.        ,  0.        ,  4.0694586 ,  0.71975178,  0.        ,\n",
       "        0.67769213,  0.        ,  0.        ,  1.36232898,  3.73387351,\n",
       "        5.4435408 ,  1.09631186,  0.36024059, 23.78618123,  2.35712944,\n",
       "        2.76307397,  0.        ,  2.52256968,  0.        ,  3.36935628,\n",
       "        0.        ,  0.        ,  0.        ,  2.13329917,  3.70439211,\n",
       "        4.88077355,  4.11901139, 18.72255691,  0.        , 12.91512949,\n",
       "        0.        ,  1.29353261,  2.08629685,  0.        ,  2.15915163,\n",
       "        0.        ,  0.76797683,  5.38469201,  3.41347835,  1.18576429,\n",
       "        5.14357566,  1.71197303,  0.        ,  0.        ,  4.31372564,\n",
       "        3.6701    ,  0.57290662,  5.00626653,  0.        ,  0.40373888,\n",
       "        0.        ,  0.54231221,  0.        ,  2.9568068 ,  5.05283153,\n",
       "        0.34499282,  0.43088936,  3.43742906,  0.        ,  0.21182007,\n",
       "        0.        ,  0.        ,  0.        ,  0.        ,  0.        ,\n",
       "        0.        ,  0.        ,  0.        ,  8.18699565,  1.48122719,\n",
       "        1.64754869,  5.63060386,  4.23116083,  2.98511193,  1.26618624,\n",
       "        0.        ,  0.        ,  0.        ,  0.30189178,  0.        ,\n",
       "        0.        ,  0.        ,  1.51824765,  0.        ,  0.31670187,\n",
       "        0.        , 12.16568964,  0.        ,  3.58574766,  0.38301694,\n",
       "        0.        ,  0.        ,  2.32839978,  0.        ,  3.5971464 ,\n",
       "        2.99534093,  0.        ,  0.        ,  0.        ,  0.62849533,\n",
       "        5.99762717,  0.        ,  0.51151851,  0.        ,  0.37123132,\n",
       "        0.        ,  0.        ,  3.28316423,  0.        ,  0.86763298,\n",
       "        0.33669909,  0.        ,  0.        ,  2.13240973,  3.43116488,\n",
       "        1.53934891,  2.69373061,  0.        ,  0.        ,  0.        ,\n",
       "        0.        ,  1.5282101 ,  1.13237262,  0.        ,  2.67362937,\n",
       "        0.        ,  0.34014011,  0.54462736,  0.31741308,  0.        ,\n",
       "        0.31133973,  0.59595054,  1.18531009,  2.93756384,  0.        ])"
      ]
     },
     "execution_count": 78,
     "metadata": {},
     "output_type": "execute_result"
    }
   ],
   "source": [
    "# number of times each token appears across all SPAM messages\n",
    "spam_token_count = nb.feature_count_[1, :]\n",
    "spam_token_count"
   ]
  },
  {
   "cell_type": "code",
   "execution_count": 79,
   "metadata": {},
   "outputs": [
    {
     "data": {
      "text/html": [
       "<div>\n",
       "<style scoped>\n",
       "    .dataframe tbody tr th:only-of-type {\n",
       "        vertical-align: middle;\n",
       "    }\n",
       "\n",
       "    .dataframe tbody tr th {\n",
       "        vertical-align: top;\n",
       "    }\n",
       "\n",
       "    .dataframe thead th {\n",
       "        text-align: right;\n",
       "    }\n",
       "</style>\n",
       "<table border=\"1\" class=\"dataframe\">\n",
       "  <thead>\n",
       "    <tr style=\"text-align: right;\">\n",
       "      <th></th>\n",
       "      <th>ham</th>\n",
       "      <th>spam</th>\n",
       "    </tr>\n",
       "    <tr>\n",
       "      <th>token</th>\n",
       "      <th></th>\n",
       "      <th></th>\n",
       "    </tr>\n",
       "  </thead>\n",
       "  <tbody>\n",
       "    <tr>\n",
       "      <th>player</th>\n",
       "      <td>1.000000</td>\n",
       "      <td>3.180541</td>\n",
       "    </tr>\n",
       "    <tr>\n",
       "      <th>smth</th>\n",
       "      <td>4.389889</td>\n",
       "      <td>0.000000</td>\n",
       "    </tr>\n",
       "    <tr>\n",
       "      <th>voucher</th>\n",
       "      <td>0.321617</td>\n",
       "      <td>4.313726</td>\n",
       "    </tr>\n",
       "    <tr>\n",
       "      <th>crave</th>\n",
       "      <td>3.304882</td>\n",
       "      <td>0.000000</td>\n",
       "    </tr>\n",
       "    <tr>\n",
       "      <th>nt</th>\n",
       "      <td>6.311213</td>\n",
       "      <td>0.252694</td>\n",
       "    </tr>\n",
       "  </tbody>\n",
       "</table>\n",
       "</div>"
      ],
      "text/plain": [
       "              ham      spam\n",
       "token                      \n",
       "player   1.000000  3.180541\n",
       "smth     4.389889  0.000000\n",
       "voucher  0.321617  4.313726\n",
       "crave    3.304882  0.000000\n",
       "nt       6.311213  0.252694"
      ]
     },
     "execution_count": 79,
     "metadata": {},
     "output_type": "execute_result"
    }
   ],
   "source": [
    "# create a DataFrame of tokens with their separate ham and spam counts\n",
    "tokens = pd.DataFrame({'token':X_train_tokens, 'ham':ham_token_count, 'spam':spam_token_count}).set_index('token')\n",
    "tokens.sample(5,random_state=3)"
   ]
  },
  {
   "cell_type": "code",
   "execution_count": 80,
   "metadata": {},
   "outputs": [
    {
     "data": {
      "text/plain": [
       "array([3617.,  562.])"
      ]
     },
     "execution_count": 80,
     "metadata": {},
     "output_type": "execute_result"
    }
   ],
   "source": [
    "# Naive Bayes counts the number of observations in each class\n",
    "nb.class_count_"
   ]
  },
  {
   "cell_type": "code",
   "execution_count": 81,
   "metadata": {},
   "outputs": [
    {
     "data": {
      "text/html": [
       "<div>\n",
       "<style scoped>\n",
       "    .dataframe tbody tr th:only-of-type {\n",
       "        vertical-align: middle;\n",
       "    }\n",
       "\n",
       "    .dataframe tbody tr th {\n",
       "        vertical-align: top;\n",
       "    }\n",
       "\n",
       "    .dataframe thead th {\n",
       "        text-align: right;\n",
       "    }\n",
       "</style>\n",
       "<table border=\"1\" class=\"dataframe\">\n",
       "  <thead>\n",
       "    <tr style=\"text-align: right;\">\n",
       "      <th></th>\n",
       "      <th>ham</th>\n",
       "      <th>spam</th>\n",
       "    </tr>\n",
       "    <tr>\n",
       "      <th>token</th>\n",
       "      <th></th>\n",
       "      <th></th>\n",
       "    </tr>\n",
       "  </thead>\n",
       "  <tbody>\n",
       "    <tr>\n",
       "      <th>player</th>\n",
       "      <td>2.000000</td>\n",
       "      <td>4.180541</td>\n",
       "    </tr>\n",
       "    <tr>\n",
       "      <th>smth</th>\n",
       "      <td>5.389889</td>\n",
       "      <td>1.000000</td>\n",
       "    </tr>\n",
       "    <tr>\n",
       "      <th>voucher</th>\n",
       "      <td>1.321617</td>\n",
       "      <td>5.313726</td>\n",
       "    </tr>\n",
       "    <tr>\n",
       "      <th>crave</th>\n",
       "      <td>4.304882</td>\n",
       "      <td>1.000000</td>\n",
       "    </tr>\n",
       "    <tr>\n",
       "      <th>nt</th>\n",
       "      <td>7.311213</td>\n",
       "      <td>1.252694</td>\n",
       "    </tr>\n",
       "  </tbody>\n",
       "</table>\n",
       "</div>"
      ],
      "text/plain": [
       "              ham      spam\n",
       "token                      \n",
       "player   2.000000  4.180541\n",
       "smth     5.389889  1.000000\n",
       "voucher  1.321617  5.313726\n",
       "crave    4.304882  1.000000\n",
       "nt       7.311213  1.252694"
      ]
     },
     "execution_count": 81,
     "metadata": {},
     "output_type": "execute_result"
    }
   ],
   "source": [
    "# add 1 to ham and spam counts to avoid mathematical errors like dividing by zero.\n",
    "tokens['ham'] = tokens.ham + 1\n",
    "tokens['spam'] = tokens.spam + 1\n",
    "tokens.sample(5, random_state=3)"
   ]
  },
  {
   "cell_type": "code",
   "execution_count": 82,
   "metadata": {},
   "outputs": [
    {
     "data": {
      "text/html": [
       "<div>\n",
       "<style scoped>\n",
       "    .dataframe tbody tr th:only-of-type {\n",
       "        vertical-align: middle;\n",
       "    }\n",
       "\n",
       "    .dataframe tbody tr th {\n",
       "        vertical-align: top;\n",
       "    }\n",
       "\n",
       "    .dataframe thead th {\n",
       "        text-align: right;\n",
       "    }\n",
       "</style>\n",
       "<table border=\"1\" class=\"dataframe\">\n",
       "  <thead>\n",
       "    <tr style=\"text-align: right;\">\n",
       "      <th></th>\n",
       "      <th>ham</th>\n",
       "      <th>spam</th>\n",
       "    </tr>\n",
       "    <tr>\n",
       "      <th>token</th>\n",
       "      <th></th>\n",
       "      <th></th>\n",
       "    </tr>\n",
       "  </thead>\n",
       "  <tbody>\n",
       "    <tr>\n",
       "      <th>player</th>\n",
       "      <td>0.000553</td>\n",
       "      <td>0.007439</td>\n",
       "    </tr>\n",
       "    <tr>\n",
       "      <th>smth</th>\n",
       "      <td>0.001490</td>\n",
       "      <td>0.001779</td>\n",
       "    </tr>\n",
       "    <tr>\n",
       "      <th>voucher</th>\n",
       "      <td>0.000365</td>\n",
       "      <td>0.009455</td>\n",
       "    </tr>\n",
       "    <tr>\n",
       "      <th>crave</th>\n",
       "      <td>0.001190</td>\n",
       "      <td>0.001779</td>\n",
       "    </tr>\n",
       "    <tr>\n",
       "      <th>nt</th>\n",
       "      <td>0.002021</td>\n",
       "      <td>0.002229</td>\n",
       "    </tr>\n",
       "  </tbody>\n",
       "</table>\n",
       "</div>"
      ],
      "text/plain": [
       "              ham      spam\n",
       "token                      \n",
       "player   0.000553  0.007439\n",
       "smth     0.001490  0.001779\n",
       "voucher  0.000365  0.009455\n",
       "crave    0.001190  0.001779\n",
       "nt       0.002021  0.002229"
      ]
     },
     "execution_count": 82,
     "metadata": {},
     "output_type": "execute_result"
    }
   ],
   "source": [
    "# convert the ham and spam counts into frequencies\n",
    "tokens['ham'] = tokens.ham / nb.class_count_[0]\n",
    "tokens['spam'] = tokens.spam / nb.class_count_[1]\n",
    "tokens.sample(5, random_state=3)"
   ]
  },
  {
   "cell_type": "code",
   "execution_count": 83,
   "metadata": {},
   "outputs": [
    {
     "data": {
      "text/html": [
       "<div>\n",
       "<style scoped>\n",
       "    .dataframe tbody tr th:only-of-type {\n",
       "        vertical-align: middle;\n",
       "    }\n",
       "\n",
       "    .dataframe tbody tr th {\n",
       "        vertical-align: top;\n",
       "    }\n",
       "\n",
       "    .dataframe thead th {\n",
       "        text-align: right;\n",
       "    }\n",
       "</style>\n",
       "<table border=\"1\" class=\"dataframe\">\n",
       "  <thead>\n",
       "    <tr style=\"text-align: right;\">\n",
       "      <th></th>\n",
       "      <th>ham</th>\n",
       "      <th>spam</th>\n",
       "      <th>spam_ratio</th>\n",
       "    </tr>\n",
       "    <tr>\n",
       "      <th>token</th>\n",
       "      <th></th>\n",
       "      <th></th>\n",
       "      <th></th>\n",
       "    </tr>\n",
       "  </thead>\n",
       "  <tbody>\n",
       "    <tr>\n",
       "      <th>player</th>\n",
       "      <td>0.000553</td>\n",
       "      <td>0.007439</td>\n",
       "      <td>13.452863</td>\n",
       "    </tr>\n",
       "    <tr>\n",
       "      <th>smth</th>\n",
       "      <td>0.001490</td>\n",
       "      <td>0.001779</td>\n",
       "      <td>1.194077</td>\n",
       "    </tr>\n",
       "    <tr>\n",
       "      <th>voucher</th>\n",
       "      <td>0.000365</td>\n",
       "      <td>0.009455</td>\n",
       "      <td>25.876517</td>\n",
       "    </tr>\n",
       "    <tr>\n",
       "      <th>crave</th>\n",
       "      <td>0.001190</td>\n",
       "      <td>0.001779</td>\n",
       "      <td>1.495033</td>\n",
       "    </tr>\n",
       "    <tr>\n",
       "      <th>nt</th>\n",
       "      <td>0.002021</td>\n",
       "      <td>0.002229</td>\n",
       "      <td>1.102726</td>\n",
       "    </tr>\n",
       "  </tbody>\n",
       "</table>\n",
       "</div>"
      ],
      "text/plain": [
       "              ham      spam  spam_ratio\n",
       "token                                  \n",
       "player   0.000553  0.007439   13.452863\n",
       "smth     0.001490  0.001779    1.194077\n",
       "voucher  0.000365  0.009455   25.876517\n",
       "crave    0.001190  0.001779    1.495033\n",
       "nt       0.002021  0.002229    1.102726"
      ]
     },
     "execution_count": 83,
     "metadata": {},
     "output_type": "execute_result"
    }
   ],
   "source": [
    "# calculate the ratio of spam-to-ham for each token\n",
    "tokens['spam_ratio'] = tokens.spam / tokens.ham\n",
    "tokens.sample(5, random_state=3)"
   ]
  },
  {
   "cell_type": "code",
   "execution_count": 84,
   "metadata": {},
   "outputs": [
    {
     "data": {
      "text/html": [
       "<div>\n",
       "<style scoped>\n",
       "    .dataframe tbody tr th:only-of-type {\n",
       "        vertical-align: middle;\n",
       "    }\n",
       "\n",
       "    .dataframe tbody tr th {\n",
       "        vertical-align: top;\n",
       "    }\n",
       "\n",
       "    .dataframe thead th {\n",
       "        text-align: right;\n",
       "    }\n",
       "</style>\n",
       "<table border=\"1\" class=\"dataframe\">\n",
       "  <thead>\n",
       "    <tr style=\"text-align: right;\">\n",
       "      <th></th>\n",
       "      <th>ham</th>\n",
       "      <th>spam</th>\n",
       "      <th>spam_ratio</th>\n",
       "    </tr>\n",
       "    <tr>\n",
       "      <th>token</th>\n",
       "      <th></th>\n",
       "      <th></th>\n",
       "      <th></th>\n",
       "    </tr>\n",
       "  </thead>\n",
       "  <tbody>\n",
       "    <tr>\n",
       "      <th>claim</th>\n",
       "      <td>0.000276</td>\n",
       "      <td>0.039144</td>\n",
       "      <td>141.584108</td>\n",
       "    </tr>\n",
       "    <tr>\n",
       "      <th>prize</th>\n",
       "      <td>0.000276</td>\n",
       "      <td>0.036308</td>\n",
       "      <td>131.326071</td>\n",
       "    </tr>\n",
       "    <tr>\n",
       "      <th>guaranteed</th>\n",
       "      <td>0.000276</td>\n",
       "      <td>0.022066</td>\n",
       "      <td>79.814504</td>\n",
       "    </tr>\n",
       "    <tr>\n",
       "      <th>tone</th>\n",
       "      <td>0.000276</td>\n",
       "      <td>0.020725</td>\n",
       "      <td>74.962220</td>\n",
       "    </tr>\n",
       "    <tr>\n",
       "      <th>1000</th>\n",
       "      <td>0.000276</td>\n",
       "      <td>0.018193</td>\n",
       "      <td>65.804529</td>\n",
       "    </tr>\n",
       "    <tr>\n",
       "      <th>urgent</th>\n",
       "      <td>0.000377</td>\n",
       "      <td>0.024760</td>\n",
       "      <td>65.755513</td>\n",
       "    </tr>\n",
       "    <tr>\n",
       "      <th>awarded</th>\n",
       "      <td>0.000276</td>\n",
       "      <td>0.017740</td>\n",
       "      <td>64.165923</td>\n",
       "    </tr>\n",
       "    <tr>\n",
       "      <th>18</th>\n",
       "      <td>0.000276</td>\n",
       "      <td>0.017617</td>\n",
       "      <td>63.718919</td>\n",
       "    </tr>\n",
       "    <tr>\n",
       "      <th>2000</th>\n",
       "      <td>0.000276</td>\n",
       "      <td>0.016538</td>\n",
       "      <td>59.819659</td>\n",
       "    </tr>\n",
       "    <tr>\n",
       "      <th>150ppm</th>\n",
       "      <td>0.000276</td>\n",
       "      <td>0.016162</td>\n",
       "      <td>58.459429</td>\n",
       "    </tr>\n",
       "    <tr>\n",
       "      <th>500</th>\n",
       "      <td>0.000276</td>\n",
       "      <td>0.015622</td>\n",
       "      <td>56.503721</td>\n",
       "    </tr>\n",
       "    <tr>\n",
       "      <th>ringtone</th>\n",
       "      <td>0.000276</td>\n",
       "      <td>0.015206</td>\n",
       "      <td>55.000006</td>\n",
       "    </tr>\n",
       "    <tr>\n",
       "      <th>150</th>\n",
       "      <td>0.000276</td>\n",
       "      <td>0.014987</td>\n",
       "      <td>54.206740</td>\n",
       "    </tr>\n",
       "    <tr>\n",
       "      <th>mob</th>\n",
       "      <td>0.000276</td>\n",
       "      <td>0.013363</td>\n",
       "      <td>48.332389</td>\n",
       "    </tr>\n",
       "    <tr>\n",
       "      <th>service</th>\n",
       "      <td>0.000532</td>\n",
       "      <td>0.025518</td>\n",
       "      <td>47.978935</td>\n",
       "    </tr>\n",
       "    <tr>\n",
       "      <th>collection</th>\n",
       "      <td>0.000276</td>\n",
       "      <td>0.013246</td>\n",
       "      <td>47.910734</td>\n",
       "    </tr>\n",
       "    <tr>\n",
       "      <th>800</th>\n",
       "      <td>0.000276</td>\n",
       "      <td>0.012565</td>\n",
       "      <td>45.446664</td>\n",
       "    </tr>\n",
       "    <tr>\n",
       "      <th>tcs</th>\n",
       "      <td>0.000276</td>\n",
       "      <td>0.012288</td>\n",
       "      <td>44.444851</td>\n",
       "    </tr>\n",
       "    <tr>\n",
       "      <th>250</th>\n",
       "      <td>0.000276</td>\n",
       "      <td>0.012046</td>\n",
       "      <td>43.571215</td>\n",
       "    </tr>\n",
       "    <tr>\n",
       "      <th>weekly</th>\n",
       "      <td>0.000276</td>\n",
       "      <td>0.011798</td>\n",
       "      <td>42.674189</td>\n",
       "    </tr>\n",
       "    <tr>\n",
       "      <th>5000</th>\n",
       "      <td>0.000276</td>\n",
       "      <td>0.011668</td>\n",
       "      <td>42.204024</td>\n",
       "    </tr>\n",
       "    <tr>\n",
       "      <th>150p</th>\n",
       "      <td>0.000276</td>\n",
       "      <td>0.011472</td>\n",
       "      <td>41.493299</td>\n",
       "    </tr>\n",
       "    <tr>\n",
       "      <th>tscs</th>\n",
       "      <td>0.000276</td>\n",
       "      <td>0.011465</td>\n",
       "      <td>41.470262</td>\n",
       "    </tr>\n",
       "    <tr>\n",
       "      <th>valid</th>\n",
       "      <td>0.000276</td>\n",
       "      <td>0.011361</td>\n",
       "      <td>41.091514</td>\n",
       "    </tr>\n",
       "    <tr>\n",
       "      <th>8007</th>\n",
       "      <td>0.000276</td>\n",
       "      <td>0.011300</td>\n",
       "      <td>40.872859</td>\n",
       "    </tr>\n",
       "    <tr>\n",
       "      <th>land</th>\n",
       "      <td>0.000276</td>\n",
       "      <td>0.011191</td>\n",
       "      <td>40.477714</td>\n",
       "    </tr>\n",
       "    <tr>\n",
       "      <th>nokia</th>\n",
       "      <td>0.000554</td>\n",
       "      <td>0.022242</td>\n",
       "      <td>40.121874</td>\n",
       "    </tr>\n",
       "    <tr>\n",
       "      <th>tones</th>\n",
       "      <td>0.000276</td>\n",
       "      <td>0.010574</td>\n",
       "      <td>38.247925</td>\n",
       "    </tr>\n",
       "    <tr>\n",
       "      <th>16</th>\n",
       "      <td>0.000472</td>\n",
       "      <td>0.018010</td>\n",
       "      <td>38.122132</td>\n",
       "    </tr>\n",
       "    <tr>\n",
       "      <th>sae</th>\n",
       "      <td>0.000276</td>\n",
       "      <td>0.010522</td>\n",
       "      <td>38.058832</td>\n",
       "    </tr>\n",
       "    <tr>\n",
       "      <th>...</th>\n",
       "      <td>...</td>\n",
       "      <td>...</td>\n",
       "      <td>...</td>\n",
       "    </tr>\n",
       "    <tr>\n",
       "      <th>think</th>\n",
       "      <td>0.009472</td>\n",
       "      <td>0.003059</td>\n",
       "      <td>0.322930</td>\n",
       "    </tr>\n",
       "    <tr>\n",
       "      <th>told</th>\n",
       "      <td>0.005540</td>\n",
       "      <td>0.001779</td>\n",
       "      <td>0.321182</td>\n",
       "    </tr>\n",
       "    <tr>\n",
       "      <th>really</th>\n",
       "      <td>0.006846</td>\n",
       "      <td>0.002183</td>\n",
       "      <td>0.318869</td>\n",
       "    </tr>\n",
       "    <tr>\n",
       "      <th>morning</th>\n",
       "      <td>0.005689</td>\n",
       "      <td>0.001779</td>\n",
       "      <td>0.312779</td>\n",
       "    </tr>\n",
       "    <tr>\n",
       "      <th>sure</th>\n",
       "      <td>0.005819</td>\n",
       "      <td>0.001779</td>\n",
       "      <td>0.305803</td>\n",
       "    </tr>\n",
       "    <tr>\n",
       "      <th>didnt</th>\n",
       "      <td>0.006107</td>\n",
       "      <td>0.001779</td>\n",
       "      <td>0.291388</td>\n",
       "    </tr>\n",
       "    <tr>\n",
       "      <th>still</th>\n",
       "      <td>0.011880</td>\n",
       "      <td>0.003448</td>\n",
       "      <td>0.290214</td>\n",
       "    </tr>\n",
       "    <tr>\n",
       "      <th>something</th>\n",
       "      <td>0.006167</td>\n",
       "      <td>0.001779</td>\n",
       "      <td>0.288532</td>\n",
       "    </tr>\n",
       "    <tr>\n",
       "      <th>already</th>\n",
       "      <td>0.006683</td>\n",
       "      <td>0.001779</td>\n",
       "      <td>0.266258</td>\n",
       "    </tr>\n",
       "    <tr>\n",
       "      <th>ask</th>\n",
       "      <td>0.006738</td>\n",
       "      <td>0.001779</td>\n",
       "      <td>0.264060</td>\n",
       "    </tr>\n",
       "    <tr>\n",
       "      <th>sorry</th>\n",
       "      <td>0.012272</td>\n",
       "      <td>0.003227</td>\n",
       "      <td>0.262959</td>\n",
       "    </tr>\n",
       "    <tr>\n",
       "      <th>wat</th>\n",
       "      <td>0.008284</td>\n",
       "      <td>0.002156</td>\n",
       "      <td>0.260287</td>\n",
       "    </tr>\n",
       "    <tr>\n",
       "      <th>got</th>\n",
       "      <td>0.016254</td>\n",
       "      <td>0.004149</td>\n",
       "      <td>0.255276</td>\n",
       "    </tr>\n",
       "    <tr>\n",
       "      <th>anything</th>\n",
       "      <td>0.007423</td>\n",
       "      <td>0.001779</td>\n",
       "      <td>0.239717</td>\n",
       "    </tr>\n",
       "    <tr>\n",
       "      <th>much</th>\n",
       "      <td>0.009280</td>\n",
       "      <td>0.002222</td>\n",
       "      <td>0.239385</td>\n",
       "    </tr>\n",
       "    <tr>\n",
       "      <th>way</th>\n",
       "      <td>0.007685</td>\n",
       "      <td>0.001779</td>\n",
       "      <td>0.231528</td>\n",
       "    </tr>\n",
       "    <tr>\n",
       "      <th>yeah</th>\n",
       "      <td>0.007736</td>\n",
       "      <td>0.001779</td>\n",
       "      <td>0.229997</td>\n",
       "    </tr>\n",
       "    <tr>\n",
       "      <th>going</th>\n",
       "      <td>0.013673</td>\n",
       "      <td>0.003107</td>\n",
       "      <td>0.227215</td>\n",
       "    </tr>\n",
       "    <tr>\n",
       "      <th>lol</th>\n",
       "      <td>0.008016</td>\n",
       "      <td>0.001779</td>\n",
       "      <td>0.221969</td>\n",
       "    </tr>\n",
       "    <tr>\n",
       "      <th>home</th>\n",
       "      <td>0.012256</td>\n",
       "      <td>0.002630</td>\n",
       "      <td>0.214577</td>\n",
       "    </tr>\n",
       "    <tr>\n",
       "      <th>thats</th>\n",
       "      <td>0.008309</td>\n",
       "      <td>0.001779</td>\n",
       "      <td>0.214151</td>\n",
       "    </tr>\n",
       "    <tr>\n",
       "      <th>oh</th>\n",
       "      <td>0.010474</td>\n",
       "      <td>0.002206</td>\n",
       "      <td>0.210654</td>\n",
       "    </tr>\n",
       "    <tr>\n",
       "      <th>im</th>\n",
       "      <td>0.027149</td>\n",
       "      <td>0.005077</td>\n",
       "      <td>0.187016</td>\n",
       "    </tr>\n",
       "    <tr>\n",
       "      <th>lor</th>\n",
       "      <td>0.011249</td>\n",
       "      <td>0.001779</td>\n",
       "      <td>0.158173</td>\n",
       "    </tr>\n",
       "    <tr>\n",
       "      <th>da</th>\n",
       "      <td>0.011476</td>\n",
       "      <td>0.001779</td>\n",
       "      <td>0.155056</td>\n",
       "    </tr>\n",
       "    <tr>\n",
       "      <th>later</th>\n",
       "      <td>0.012397</td>\n",
       "      <td>0.001779</td>\n",
       "      <td>0.143534</td>\n",
       "    </tr>\n",
       "    <tr>\n",
       "      <th>come</th>\n",
       "      <td>0.017065</td>\n",
       "      <td>0.002274</td>\n",
       "      <td>0.133274</td>\n",
       "    </tr>\n",
       "    <tr>\n",
       "      <th>ok</th>\n",
       "      <td>0.023741</td>\n",
       "      <td>0.003099</td>\n",
       "      <td>0.130538</td>\n",
       "    </tr>\n",
       "    <tr>\n",
       "      <th>ill</th>\n",
       "      <td>0.017462</td>\n",
       "      <td>0.002166</td>\n",
       "      <td>0.124012</td>\n",
       "    </tr>\n",
       "    <tr>\n",
       "      <th>ltgt</th>\n",
       "      <td>0.017210</td>\n",
       "      <td>0.001779</td>\n",
       "      <td>0.103391</td>\n",
       "    </tr>\n",
       "  </tbody>\n",
       "</table>\n",
       "<p>1000 rows × 3 columns</p>\n",
       "</div>"
      ],
      "text/plain": [
       "                 ham      spam  spam_ratio\n",
       "token                                     \n",
       "claim       0.000276  0.039144  141.584108\n",
       "prize       0.000276  0.036308  131.326071\n",
       "guaranteed  0.000276  0.022066   79.814504\n",
       "tone        0.000276  0.020725   74.962220\n",
       "1000        0.000276  0.018193   65.804529\n",
       "urgent      0.000377  0.024760   65.755513\n",
       "awarded     0.000276  0.017740   64.165923\n",
       "18          0.000276  0.017617   63.718919\n",
       "2000        0.000276  0.016538   59.819659\n",
       "150ppm      0.000276  0.016162   58.459429\n",
       "500         0.000276  0.015622   56.503721\n",
       "ringtone    0.000276  0.015206   55.000006\n",
       "150         0.000276  0.014987   54.206740\n",
       "mob         0.000276  0.013363   48.332389\n",
       "service     0.000532  0.025518   47.978935\n",
       "collection  0.000276  0.013246   47.910734\n",
       "800         0.000276  0.012565   45.446664\n",
       "tcs         0.000276  0.012288   44.444851\n",
       "250         0.000276  0.012046   43.571215\n",
       "weekly      0.000276  0.011798   42.674189\n",
       "5000        0.000276  0.011668   42.204024\n",
       "150p        0.000276  0.011472   41.493299\n",
       "tscs        0.000276  0.011465   41.470262\n",
       "valid       0.000276  0.011361   41.091514\n",
       "8007        0.000276  0.011300   40.872859\n",
       "land        0.000276  0.011191   40.477714\n",
       "nokia       0.000554  0.022242   40.121874\n",
       "tones       0.000276  0.010574   38.247925\n",
       "16          0.000472  0.018010   38.122132\n",
       "sae         0.000276  0.010522   38.058832\n",
       "...              ...       ...         ...\n",
       "think       0.009472  0.003059    0.322930\n",
       "told        0.005540  0.001779    0.321182\n",
       "really      0.006846  0.002183    0.318869\n",
       "morning     0.005689  0.001779    0.312779\n",
       "sure        0.005819  0.001779    0.305803\n",
       "didnt       0.006107  0.001779    0.291388\n",
       "still       0.011880  0.003448    0.290214\n",
       "something   0.006167  0.001779    0.288532\n",
       "already     0.006683  0.001779    0.266258\n",
       "ask         0.006738  0.001779    0.264060\n",
       "sorry       0.012272  0.003227    0.262959\n",
       "wat         0.008284  0.002156    0.260287\n",
       "got         0.016254  0.004149    0.255276\n",
       "anything    0.007423  0.001779    0.239717\n",
       "much        0.009280  0.002222    0.239385\n",
       "way         0.007685  0.001779    0.231528\n",
       "yeah        0.007736  0.001779    0.229997\n",
       "going       0.013673  0.003107    0.227215\n",
       "lol         0.008016  0.001779    0.221969\n",
       "home        0.012256  0.002630    0.214577\n",
       "thats       0.008309  0.001779    0.214151\n",
       "oh          0.010474  0.002206    0.210654\n",
       "im          0.027149  0.005077    0.187016\n",
       "lor         0.011249  0.001779    0.158173\n",
       "da          0.011476  0.001779    0.155056\n",
       "later       0.012397  0.001779    0.143534\n",
       "come        0.017065  0.002274    0.133274\n",
       "ok          0.023741  0.003099    0.130538\n",
       "ill         0.017462  0.002166    0.124012\n",
       "ltgt        0.017210  0.001779    0.103391\n",
       "\n",
       "[1000 rows x 3 columns]"
      ]
     },
     "execution_count": 84,
     "metadata": {},
     "output_type": "execute_result"
    }
   ],
   "source": [
    "# examine the DataFrame sorted by spam_ratio\n",
    "# note: use sort() instead of sort_values() for pandas 0.16.2 and earlier\n",
    "tokens.sort_values('spam_ratio', ascending=False)"
   ]
  },
  {
   "cell_type": "code",
   "execution_count": 85,
   "metadata": {},
   "outputs": [
    {
     "data": {
      "text/plain": [
       "131.32607149588594"
      ]
     },
     "execution_count": 85,
     "metadata": {},
     "output_type": "execute_result"
    }
   ],
   "source": [
    "# look up the spam_ratio for a given token\n",
    "tokens.loc['prize', 'spam_ratio']"
   ]
  },
  {
   "cell_type": "code",
   "execution_count": 88,
   "metadata": {},
   "outputs": [
    {
     "data": {
      "text/plain": [
       "0.14353410235210196"
      ]
     },
     "execution_count": 88,
     "metadata": {},
     "output_type": "execute_result"
    }
   ],
   "source": [
    "# look up the spam_ratio for a given token\n",
    "tokens.loc['later', 'spam_ratio']"
   ]
  },
  {
   "cell_type": "code",
   "execution_count": null,
   "metadata": {},
   "outputs": [],
   "source": []
  }
 ],
 "metadata": {
  "kernelspec": {
   "display_name": "Python 3",
   "language": "python",
   "name": "python3"
  },
  "language_info": {
   "codemirror_mode": {
    "name": "ipython",
    "version": 3
   },
   "file_extension": ".py",
   "mimetype": "text/x-python",
   "name": "python",
   "nbconvert_exporter": "python",
   "pygments_lexer": "ipython3",
   "version": "3.6.5"
  }
 },
 "nbformat": 4,
 "nbformat_minor": 2
}
